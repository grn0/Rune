{
  "nbformat": 4,
  "nbformat_minor": 0,
  "metadata": {
    "colab": {
      "provenance": []
    },
    "kernelspec": {
      "name": "python3",
      "display_name": "Python 3"
    },
    "language_info": {
      "name": "python"
    }
  },
  "cells": [
    {
      "cell_type": "code",
      "source": [
        "11"
      ],
      "metadata": {
        "colab": {
          "base_uri": "https://localhost:8080/"
        },
        "id": "jh3NFiNNKOln",
        "outputId": "e3b95571-b955-4a62-e667-bddf7e535376"
      },
      "execution_count": 5,
      "outputs": [
        {
          "output_type": "execute_result",
          "data": {
            "text/plain": [
              "11"
            ]
          },
          "metadata": {},
          "execution_count": 5
        }
      ]
    },
    {
      "cell_type": "code",
      "source": [
        "import pandas as pd"
      ],
      "metadata": {
        "id": "yWzOy2SmJKD5"
      },
      "execution_count": 4,
      "outputs": []
    },
    {
      "cell_type": "code",
      "source": [
        "from google.colab import drive\n",
        "drive.mount('/content/mydrive/')"
      ],
      "metadata": {
        "id": "23DL17MHFkSy",
        "colab": {
          "base_uri": "https://localhost:8080/"
        },
        "outputId": "e89d2bd6-db95-46d4-b166-b87512eba4ee"
      },
      "execution_count": 3,
      "outputs": [
        {
          "output_type": "stream",
          "name": "stdout",
          "text": [
            "Mounted at /content/mydrive/\n"
          ]
        }
      ]
    },
    {
      "cell_type": "markdown",
      "source": [
        "# [read_csv](https://pandas.pydata.org/docs/reference/api/pandas.read_csv.html)\n",
        "- Read a comma-separated values(csv) file into DatFrame"
      ],
      "metadata": {
        "id": "GhegNckOIW4g"
      }
    },
    {
      "cell_type": "code",
      "source": [
        "data = pd.read_csv('/content/mydrive/MyDrive/MachineLearningWithPython/files/weather.csv')\n",
        "data.info() # RangeIndex, 23 columns"
      ],
      "metadata": {
        "colab": {
          "base_uri": "https://localhost:8080/"
        },
        "id": "F3dthBOtKQwd",
        "outputId": "1d352b3c-6557-40fd-e7de-aac6971076c9"
      },
      "execution_count": 9,
      "outputs": [
        {
          "output_type": "stream",
          "name": "stdout",
          "text": [
            "<class 'pandas.core.frame.DataFrame'>\n",
            "RangeIndex: 3337 entries, 0 to 3336\n",
            "Data columns (total 23 columns):\n",
            " #   Column         Non-Null Count  Dtype  \n",
            "---  ------         --------------  -----  \n",
            " 0   Date           3337 non-null   object \n",
            " 1   MinTemp        3334 non-null   float64\n",
            " 2   MaxTemp        3335 non-null   float64\n",
            " 3   Rainfall       3331 non-null   float64\n",
            " 4   Evaporation    3286 non-null   float64\n",
            " 5   Sunshine       3321 non-null   float64\n",
            " 6   WindGustDir    2301 non-null   object \n",
            " 7   WindGustSpeed  2301 non-null   float64\n",
            " 8   WindDir9am     3281 non-null   object \n",
            " 9   WindDir3pm     3304 non-null   object \n",
            " 10  WindSpeed9am   3311 non-null   float64\n",
            " 11  WindSpeed3pm   3312 non-null   float64\n",
            " 12  Humidity9am    3323 non-null   float64\n",
            " 13  Humidity3pm    3324 non-null   float64\n",
            " 14  Pressure9am    3317 non-null   float64\n",
            " 15  Pressure3pm    3318 non-null   float64\n",
            " 16  Cloud9am       2771 non-null   float64\n",
            " 17  Cloud3pm       2776 non-null   float64\n",
            " 18  Temp9am        3333 non-null   float64\n",
            " 19  Temp3pm        3333 non-null   float64\n",
            " 20  RainToday      3331 non-null   object \n",
            " 21  RISK_MM        3337 non-null   float64\n",
            " 22  RainTomorrow   3337 non-null   object \n",
            "dtypes: float64(17), object(6)\n",
            "memory usage: 599.7+ KB\n"
          ]
        }
      ]
    },
    {
      "cell_type": "markdown",
      "source": [
        "## parse_date\n",
        "- default: false\n",
        "- if True -> try parsing the index"
      ],
      "metadata": {
        "id": "lU2rwUYKIpMj"
      }
    },
    {
      "cell_type": "code",
      "source": [
        "data = pd.read_csv('/content/mydrive/MyDrive/MachineLearningWithPython/files/weather.csv', parse_dates=True)\n",
        "data.info() # RangeIndex, 23 columns"
      ],
      "metadata": {
        "colab": {
          "base_uri": "https://localhost:8080/"
        },
        "id": "5L4fJ_fuJHt6",
        "outputId": "f5e86dc2-a251-4fc3-a724-e9dbcf2cf5b6"
      },
      "execution_count": 10,
      "outputs": [
        {
          "output_type": "stream",
          "name": "stdout",
          "text": [
            "<class 'pandas.core.frame.DataFrame'>\n",
            "RangeIndex: 3337 entries, 0 to 3336\n",
            "Data columns (total 23 columns):\n",
            " #   Column         Non-Null Count  Dtype  \n",
            "---  ------         --------------  -----  \n",
            " 0   Date           3337 non-null   object \n",
            " 1   MinTemp        3334 non-null   float64\n",
            " 2   MaxTemp        3335 non-null   float64\n",
            " 3   Rainfall       3331 non-null   float64\n",
            " 4   Evaporation    3286 non-null   float64\n",
            " 5   Sunshine       3321 non-null   float64\n",
            " 6   WindGustDir    2301 non-null   object \n",
            " 7   WindGustSpeed  2301 non-null   float64\n",
            " 8   WindDir9am     3281 non-null   object \n",
            " 9   WindDir3pm     3304 non-null   object \n",
            " 10  WindSpeed9am   3311 non-null   float64\n",
            " 11  WindSpeed3pm   3312 non-null   float64\n",
            " 12  Humidity9am    3323 non-null   float64\n",
            " 13  Humidity3pm    3324 non-null   float64\n",
            " 14  Pressure9am    3317 non-null   float64\n",
            " 15  Pressure3pm    3318 non-null   float64\n",
            " 16  Cloud9am       2771 non-null   float64\n",
            " 17  Cloud3pm       2776 non-null   float64\n",
            " 18  Temp9am        3333 non-null   float64\n",
            " 19  Temp3pm        3333 non-null   float64\n",
            " 20  RainToday      3331 non-null   object \n",
            " 21  RISK_MM        3337 non-null   float64\n",
            " 22  RainTomorrow   3337 non-null   object \n",
            "dtypes: float64(17), object(6)\n",
            "memory usage: 599.7+ KB\n"
          ]
        }
      ]
    },
    {
      "cell_type": "markdown",
      "source": [
        "## index_col\n",
        "- default: None\n",
        "- Column to use as the row labels of the DataFrame\n",
        "- index_col=0: data.iloc[:, 0]을 DataFrame의 row labels로 지정"
      ],
      "metadata": {
        "id": "1kckvk55IyoH"
      }
    },
    {
      "cell_type": "code",
      "source": [
        "data.iloc[:, 0] # data['Date']"
      ],
      "metadata": {
        "colab": {
          "base_uri": "https://localhost:8080/"
        },
        "id": "5KKmGyltIouw",
        "outputId": "2ac68a2f-aaa4-4f45-99a2-d668ba9d033a"
      },
      "execution_count": 8,
      "outputs": [
        {
          "output_type": "execute_result",
          "data": {
            "text/plain": [
              "0       2008-02-01\n",
              "1       2008-02-02\n",
              "2       2008-02-03\n",
              "3       2008-02-04\n",
              "4       2008-02-05\n",
              "           ...    \n",
              "3332    2017-06-21\n",
              "3333    2017-06-22\n",
              "3334    2017-06-23\n",
              "3335    2017-06-24\n",
              "3336    2017-06-25\n",
              "Name: Date, Length: 3337, dtype: object"
            ]
          },
          "metadata": {},
          "execution_count": 8
        }
      ]
    },
    {
      "cell_type": "code",
      "source": [
        "data = pd.read_csv('/content/mydrive/MyDrive/MachineLearningWithPython/files/weather.csv', parse_dates=True, index_col=0)\n",
        "data.info() # DatetimeIndex, 22 columns"
      ],
      "metadata": {
        "colab": {
          "base_uri": "https://localhost:8080/"
        },
        "id": "XflMztbbK9TB",
        "outputId": "505ae25b-dab3-4b70-b86c-71b4832c0e86"
      },
      "execution_count": 11,
      "outputs": [
        {
          "output_type": "stream",
          "name": "stdout",
          "text": [
            "<class 'pandas.core.frame.DataFrame'>\n",
            "DatetimeIndex: 3337 entries, 2008-02-01 to 2017-06-25\n",
            "Data columns (total 22 columns):\n",
            " #   Column         Non-Null Count  Dtype  \n",
            "---  ------         --------------  -----  \n",
            " 0   MinTemp        3334 non-null   float64\n",
            " 1   MaxTemp        3335 non-null   float64\n",
            " 2   Rainfall       3331 non-null   float64\n",
            " 3   Evaporation    3286 non-null   float64\n",
            " 4   Sunshine       3321 non-null   float64\n",
            " 5   WindGustDir    2301 non-null   object \n",
            " 6   WindGustSpeed  2301 non-null   float64\n",
            " 7   WindDir9am     3281 non-null   object \n",
            " 8   WindDir3pm     3304 non-null   object \n",
            " 9   WindSpeed9am   3311 non-null   float64\n",
            " 10  WindSpeed3pm   3312 non-null   float64\n",
            " 11  Humidity9am    3323 non-null   float64\n",
            " 12  Humidity3pm    3324 non-null   float64\n",
            " 13  Pressure9am    3317 non-null   float64\n",
            " 14  Pressure3pm    3318 non-null   float64\n",
            " 15  Cloud9am       2771 non-null   float64\n",
            " 16  Cloud3pm       2776 non-null   float64\n",
            " 17  Temp9am        3333 non-null   float64\n",
            " 18  Temp3pm        3333 non-null   float64\n",
            " 19  RainToday      3331 non-null   object \n",
            " 20  RISK_MM        3337 non-null   float64\n",
            " 21  RainTomorrow   3337 non-null   object \n",
            "dtypes: float64(17), object(5)\n",
            "memory usage: 599.6+ KB\n"
          ]
        }
      ]
    },
    {
      "cell_type": "markdown",
      "source": [
        "## datetimeIndex"
      ],
      "metadata": {
        "id": "P_m4wtLiRa2p"
      }
    },
    {
      "cell_type": "code",
      "source": [
        "data.index"
      ],
      "metadata": {
        "colab": {
          "base_uri": "https://localhost:8080/"
        },
        "id": "BMp7qiLSLdHm",
        "outputId": "479f2d77-7c01-436c-abbb-cc2b9518494c"
      },
      "execution_count": 12,
      "outputs": [
        {
          "output_type": "execute_result",
          "data": {
            "text/plain": [
              "DatetimeIndex(['2008-02-01', '2008-02-02', '2008-02-03', '2008-02-04',\n",
              "               '2008-02-05', '2008-02-06', '2008-02-07', '2008-02-08',\n",
              "               '2008-02-09', '2008-02-10',\n",
              "               ...\n",
              "               '2017-06-16', '2017-06-17', '2017-06-18', '2017-06-19',\n",
              "               '2017-06-20', '2017-06-21', '2017-06-22', '2017-06-23',\n",
              "               '2017-06-24', '2017-06-25'],\n",
              "              dtype='datetime64[ns]', name='Date', length=3337, freq=None)"
            ]
          },
          "metadata": {},
          "execution_count": 12
        }
      ]
    }
  ]
}
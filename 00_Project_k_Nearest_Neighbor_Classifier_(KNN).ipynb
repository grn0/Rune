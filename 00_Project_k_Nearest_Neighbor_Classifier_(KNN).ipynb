{
  "cells": [
    {
      "cell_type": "markdown",
      "id": "e066d618",
      "metadata": {
        "id": "e066d618"
      },
      "source": [
        "<a \n",
        " href=\"https://colab.research.google.com/github/LearnPythonWithRune/MachineLearningWithPython/blob/main/colab/final/00 - Project - k-Nearest-Neighbor Classifier (KNN).ipynb\"\n",
        " target=\"_parent\">\n",
        "<img \n",
        " src=\"https://colab.research.google.com/assets/colab-badge.svg\"\n",
        "alt=\"Open In Colab\"/>\n",
        "</a>"
      ]
    },
    {
      "cell_type": "markdown",
      "id": "321ec113",
      "metadata": {
        "id": "321ec113"
      },
      "source": [
        "# Project - $k$-Nearest-Neighbors Classifier\n",
        "- Create a $k$-Nearest-Neighbors Classifier supporting 3 dimensions\n",
        "- Investigate whether it performs better"
      ]
    },
    {
      "cell_type": "markdown",
      "id": "e3bc28f8",
      "metadata": {
        "id": "e3bc28f8"
      },
      "source": [
        "### Step 1: Import libraries"
      ]
    },
    {
      "cell_type": "code",
      "execution_count": 65,
      "id": "1f0d8c10",
      "metadata": {
        "id": "1f0d8c10"
      },
      "outputs": [],
      "source": [
        "import pandas as pd\n",
        "import numpy as np\n",
        "from sklearn.neighbors import KNeighborsClassifier\n",
        "from sklearn import metrics\n",
        "from sklearn.model_selection import train_test_split"
      ]
    },
    {
      "cell_type": "code",
      "source": [
        "from google.colab import drive\n",
        "drive.mount('/content/mydrive/')"
      ],
      "metadata": {
        "colab": {
          "base_uri": "https://localhost:8080/"
        },
        "id": "1sup7B60CyAz",
        "outputId": "d2908361-9afc-4fb9-ed0b-ab5fb16dcb4b"
      },
      "id": "1sup7B60CyAz",
      "execution_count": 66,
      "outputs": [
        {
          "output_type": "stream",
          "name": "stdout",
          "text": [
            "Drive already mounted at /content/mydrive/; to attempt to forcibly remount, call drive.mount(\"/content/mydrive/\", force_remount=True).\n"
          ]
        }
      ]
    },
    {
      "cell_type": "markdown",
      "id": "d7d9b7fd",
      "metadata": {
        "id": "d7d9b7fd"
      },
      "source": [
        "### Step 2: Read data\n",
        "- Use pandas [read_csv](https://pandas.pydata.org/pandas-docs/stable/reference/api/pandas.read_csv.html) method to read **files/weather.csv**\n",
        "- HINT: Use **parse_dates=True** and **index_col=0**"
      ]
    },
    {
      "cell_type": "code",
      "execution_count": 67,
      "id": "ee927ed1",
      "metadata": {
        "colab": {
          "base_uri": "https://localhost:8080/"
        },
        "id": "ee927ed1",
        "outputId": "d554efb4-ab84-49eb-e438-30f69f400c8d"
      },
      "outputs": [
        {
          "output_type": "stream",
          "name": "stdout",
          "text": [
            "<class 'pandas.core.frame.DataFrame'>\n",
            "RangeIndex: 3337 entries, 0 to 3336\n",
            "Data columns (total 23 columns):\n",
            " #   Column         Non-Null Count  Dtype  \n",
            "---  ------         --------------  -----  \n",
            " 0   Date           3337 non-null   object \n",
            " 1   MinTemp        3334 non-null   float64\n",
            " 2   MaxTemp        3335 non-null   float64\n",
            " 3   Rainfall       3331 non-null   float64\n",
            " 4   Evaporation    3286 non-null   float64\n",
            " 5   Sunshine       3321 non-null   float64\n",
            " 6   WindGustDir    2301 non-null   object \n",
            " 7   WindGustSpeed  2301 non-null   float64\n",
            " 8   WindDir9am     3281 non-null   object \n",
            " 9   WindDir3pm     3304 non-null   object \n",
            " 10  WindSpeed9am   3311 non-null   float64\n",
            " 11  WindSpeed3pm   3312 non-null   float64\n",
            " 12  Humidity9am    3323 non-null   float64\n",
            " 13  Humidity3pm    3324 non-null   float64\n",
            " 14  Pressure9am    3317 non-null   float64\n",
            " 15  Pressure3pm    3318 non-null   float64\n",
            " 16  Cloud9am       2771 non-null   float64\n",
            " 17  Cloud3pm       2776 non-null   float64\n",
            " 18  Temp9am        3333 non-null   float64\n",
            " 19  Temp3pm        3333 non-null   float64\n",
            " 20  RainToday      3331 non-null   object \n",
            " 21  RISK_MM        3337 non-null   float64\n",
            " 22  RainTomorrow   3337 non-null   object \n",
            "dtypes: float64(17), object(6)\n",
            "memory usage: 599.7+ KB\n"
          ]
        }
      ],
      "source": [
        "data = pd.read_csv('/content/mydrive/MyDrive/MachineLearningWithPython/files/weather.csv')\n",
        "data.info()"
      ]
    },
    {
      "cell_type": "markdown",
      "source": [
        "#### **parse_date**\n",
        "- default: `False`\n",
        "- if True -> try parsing the index"
      ],
      "metadata": {
        "id": "LLxnQmlIDNLb"
      },
      "id": "LLxnQmlIDNLb"
    },
    {
      "cell_type": "code",
      "source": [
        "data = pd.read_csv('/content/mydrive/MyDrive/MachineLearningWithPython/files/weather.csv', parse_dates=True)\n",
        "data.info() # 'Date' column이 datetime type으로 바뀌지 않음 (object)"
      ],
      "metadata": {
        "colab": {
          "base_uri": "https://localhost:8080/"
        },
        "id": "ghOiFsugHH72",
        "outputId": "14a45ed8-a93b-40d6-9af2-d78a4aea85d2"
      },
      "id": "ghOiFsugHH72",
      "execution_count": 68,
      "outputs": [
        {
          "output_type": "stream",
          "name": "stdout",
          "text": [
            "<class 'pandas.core.frame.DataFrame'>\n",
            "RangeIndex: 3337 entries, 0 to 3336\n",
            "Data columns (total 23 columns):\n",
            " #   Column         Non-Null Count  Dtype  \n",
            "---  ------         --------------  -----  \n",
            " 0   Date           3337 non-null   object \n",
            " 1   MinTemp        3334 non-null   float64\n",
            " 2   MaxTemp        3335 non-null   float64\n",
            " 3   Rainfall       3331 non-null   float64\n",
            " 4   Evaporation    3286 non-null   float64\n",
            " 5   Sunshine       3321 non-null   float64\n",
            " 6   WindGustDir    2301 non-null   object \n",
            " 7   WindGustSpeed  2301 non-null   float64\n",
            " 8   WindDir9am     3281 non-null   object \n",
            " 9   WindDir3pm     3304 non-null   object \n",
            " 10  WindSpeed9am   3311 non-null   float64\n",
            " 11  WindSpeed3pm   3312 non-null   float64\n",
            " 12  Humidity9am    3323 non-null   float64\n",
            " 13  Humidity3pm    3324 non-null   float64\n",
            " 14  Pressure9am    3317 non-null   float64\n",
            " 15  Pressure3pm    3318 non-null   float64\n",
            " 16  Cloud9am       2771 non-null   float64\n",
            " 17  Cloud3pm       2776 non-null   float64\n",
            " 18  Temp9am        3333 non-null   float64\n",
            " 19  Temp3pm        3333 non-null   float64\n",
            " 20  RainToday      3331 non-null   object \n",
            " 21  RISK_MM        3337 non-null   float64\n",
            " 22  RainTomorrow   3337 non-null   object \n",
            "dtypes: float64(17), object(6)\n",
            "memory usage: 599.7+ KB\n"
          ]
        }
      ]
    },
    {
      "cell_type": "markdown",
      "source": [
        "#### **index_col**\n",
        "- default : `None`\n",
        "- Column to use as the row labels of the DataFrame\n",
        "- `index_col=0` : `data.iloc[:, 0]`을 row DataFrame의 row labels로 지정"
      ],
      "metadata": {
        "id": "0oIQq7R2FKKf"
      },
      "id": "0oIQq7R2FKKf"
    },
    {
      "cell_type": "code",
      "source": [
        "data.iloc[:, 0] # data['Date']와 동치"
      ],
      "metadata": {
        "colab": {
          "base_uri": "https://localhost:8080/"
        },
        "id": "lVDB3_pcGC4Q",
        "outputId": "8c9d191d-071d-4fcc-941d-94822a595e26"
      },
      "id": "lVDB3_pcGC4Q",
      "execution_count": 69,
      "outputs": [
        {
          "output_type": "execute_result",
          "data": {
            "text/plain": [
              "0       2008-02-01\n",
              "1       2008-02-02\n",
              "2       2008-02-03\n",
              "3       2008-02-04\n",
              "4       2008-02-05\n",
              "           ...    \n",
              "3332    2017-06-21\n",
              "3333    2017-06-22\n",
              "3334    2017-06-23\n",
              "3335    2017-06-24\n",
              "3336    2017-06-25\n",
              "Name: Date, Length: 3337, dtype: object"
            ]
          },
          "metadata": {},
          "execution_count": 69
        }
      ]
    },
    {
      "cell_type": "code",
      "source": [
        "data = pd.read_csv('/content/mydrive/MyDrive/MachineLearningWithPython/files/weather.csv', parse_dates=True, index_col=0)\n",
        "data.info() # DatetimeIndex, 22 columns"
      ],
      "metadata": {
        "colab": {
          "base_uri": "https://localhost:8080/"
        },
        "id": "3o2re7kkD8cH",
        "outputId": "b9371d86-90b1-4de1-b167-3ad60c547459"
      },
      "id": "3o2re7kkD8cH",
      "execution_count": 70,
      "outputs": [
        {
          "output_type": "stream",
          "name": "stdout",
          "text": [
            "<class 'pandas.core.frame.DataFrame'>\n",
            "DatetimeIndex: 3337 entries, 2008-02-01 to 2017-06-25\n",
            "Data columns (total 22 columns):\n",
            " #   Column         Non-Null Count  Dtype  \n",
            "---  ------         --------------  -----  \n",
            " 0   MinTemp        3334 non-null   float64\n",
            " 1   MaxTemp        3335 non-null   float64\n",
            " 2   Rainfall       3331 non-null   float64\n",
            " 3   Evaporation    3286 non-null   float64\n",
            " 4   Sunshine       3321 non-null   float64\n",
            " 5   WindGustDir    2301 non-null   object \n",
            " 6   WindGustSpeed  2301 non-null   float64\n",
            " 7   WindDir9am     3281 non-null   object \n",
            " 8   WindDir3pm     3304 non-null   object \n",
            " 9   WindSpeed9am   3311 non-null   float64\n",
            " 10  WindSpeed3pm   3312 non-null   float64\n",
            " 11  Humidity9am    3323 non-null   float64\n",
            " 12  Humidity3pm    3324 non-null   float64\n",
            " 13  Pressure9am    3317 non-null   float64\n",
            " 14  Pressure3pm    3318 non-null   float64\n",
            " 15  Cloud9am       2771 non-null   float64\n",
            " 16  Cloud3pm       2776 non-null   float64\n",
            " 17  Temp9am        3333 non-null   float64\n",
            " 18  Temp3pm        3333 non-null   float64\n",
            " 19  RainToday      3331 non-null   object \n",
            " 20  RISK_MM        3337 non-null   float64\n",
            " 21  RainTomorrow   3337 non-null   object \n",
            "dtypes: float64(17), object(5)\n",
            "memory usage: 599.6+ KB\n"
          ]
        }
      ]
    },
    {
      "cell_type": "code",
      "execution_count": 71,
      "id": "1e5e9c70",
      "metadata": {
        "colab": {
          "base_uri": "https://localhost:8080/"
        },
        "id": "1e5e9c70",
        "outputId": "801f6130-47d7-42b7-f7ac-ea9429b693e3"
      },
      "outputs": [
        {
          "output_type": "execute_result",
          "data": {
            "text/plain": [
              "DatetimeIndex(['2008-02-01', '2008-02-02', '2008-02-03', '2008-02-04',\n",
              "               '2008-02-05', '2008-02-06', '2008-02-07', '2008-02-08',\n",
              "               '2008-02-09', '2008-02-10',\n",
              "               ...\n",
              "               '2017-06-16', '2017-06-17', '2017-06-18', '2017-06-19',\n",
              "               '2017-06-20', '2017-06-21', '2017-06-22', '2017-06-23',\n",
              "               '2017-06-24', '2017-06-25'],\n",
              "              dtype='datetime64[ns]', name='Date', length=3337, freq=None)"
            ]
          },
          "metadata": {},
          "execution_count": 71
        }
      ],
      "source": [
        "data.index"
      ]
    },
    {
      "cell_type": "code",
      "source": [],
      "metadata": {
        "id": "X09XZHYlIS7B"
      },
      "id": "X09XZHYlIS7B",
      "execution_count": 71,
      "outputs": []
    },
    {
      "cell_type": "markdown",
      "id": "f84c7bf0",
      "metadata": {
        "id": "f84c7bf0"
      },
      "source": [
        "### Step 3: Investigate data types\n",
        "- Use [dtypes](https://pandas.pydata.org/docs/reference/api/pandas.DataFrame.dtypes.html)\n",
        "- The goal is to identify all columns with datatype **float64** for next step"
      ]
    },
    {
      "cell_type": "code",
      "execution_count": 72,
      "id": "7b7529e0",
      "metadata": {
        "colab": {
          "base_uri": "https://localhost:8080/"
        },
        "id": "7b7529e0",
        "outputId": "ba2736c4-7986-4ccd-ffdf-2f3127a9187d"
      },
      "outputs": [
        {
          "output_type": "execute_result",
          "data": {
            "text/plain": [
              "MinTemp          float64\n",
              "MaxTemp          float64\n",
              "Rainfall         float64\n",
              "Evaporation      float64\n",
              "Sunshine         float64\n",
              "WindGustDir       object\n",
              "WindGustSpeed    float64\n",
              "WindDir9am        object\n",
              "WindDir3pm        object\n",
              "WindSpeed9am     float64\n",
              "WindSpeed3pm     float64\n",
              "Humidity9am      float64\n",
              "Humidity3pm      float64\n",
              "Pressure9am      float64\n",
              "Pressure3pm      float64\n",
              "Cloud9am         float64\n",
              "Cloud3pm         float64\n",
              "Temp9am          float64\n",
              "Temp3pm          float64\n",
              "RainToday         object\n",
              "RISK_MM          float64\n",
              "RainTomorrow      object\n",
              "dtype: object"
            ]
          },
          "metadata": {},
          "execution_count": 72
        }
      ],
      "source": [
        "data.dtypes"
      ]
    },
    {
      "cell_type": "markdown",
      "source": [
        "#### float64 타입이 아닌 column 빼기"
      ],
      "metadata": {
        "id": "O2Z0bqiCM-p8"
      },
      "id": "O2Z0bqiCM-p8"
    },
    {
      "cell_type": "code",
      "execution_count": 73,
      "id": "82e9b31a",
      "metadata": {
        "colab": {
          "base_uri": "https://localhost:8080/"
        },
        "id": "82e9b31a",
        "outputId": "bb2247d3-c0bd-4687-d788-1a4e25aeb22a"
      },
      "outputs": [
        {
          "output_type": "execute_result",
          "data": {
            "text/plain": [
              "MinTemp          False\n",
              "MaxTemp          False\n",
              "Rainfall         False\n",
              "Evaporation      False\n",
              "Sunshine         False\n",
              "WindGustDir       True\n",
              "WindGustSpeed    False\n",
              "WindDir9am        True\n",
              "WindDir3pm        True\n",
              "WindSpeed9am     False\n",
              "WindSpeed3pm     False\n",
              "Humidity9am      False\n",
              "Humidity3pm      False\n",
              "Pressure9am      False\n",
              "Pressure3pm      False\n",
              "Cloud9am         False\n",
              "Cloud3pm         False\n",
              "Temp9am          False\n",
              "Temp3pm          False\n",
              "RainToday         True\n",
              "RISK_MM          False\n",
              "RainTomorrow      True\n",
              "dtype: bool"
            ]
          },
          "metadata": {},
          "execution_count": 73
        }
      ],
      "source": [
        "index = data.dtypes == 'object'\n",
        "index"
      ]
    },
    {
      "cell_type": "code",
      "source": [
        "data.columns"
      ],
      "metadata": {
        "colab": {
          "base_uri": "https://localhost:8080/"
        },
        "id": "RS-JkPgTOUqm",
        "outputId": "cca1294a-610a-4150-8aee-287795447e87"
      },
      "id": "RS-JkPgTOUqm",
      "execution_count": 74,
      "outputs": [
        {
          "output_type": "execute_result",
          "data": {
            "text/plain": [
              "Index(['MinTemp', 'MaxTemp', 'Rainfall', 'Evaporation', 'Sunshine',\n",
              "       'WindGustDir', 'WindGustSpeed', 'WindDir9am', 'WindDir3pm',\n",
              "       'WindSpeed9am', 'WindSpeed3pm', 'Humidity9am', 'Humidity3pm',\n",
              "       'Pressure9am', 'Pressure3pm', 'Cloud9am', 'Cloud3pm', 'Temp9am',\n",
              "       'Temp3pm', 'RainToday', 'RISK_MM', 'RainTomorrow'],\n",
              "      dtype='object')"
            ]
          },
          "metadata": {},
          "execution_count": 74
        }
      ]
    },
    {
      "cell_type": "code",
      "source": [
        "data.columns[index] # boolean indexing"
      ],
      "metadata": {
        "colab": {
          "base_uri": "https://localhost:8080/"
        },
        "id": "btpLRppcOmH8",
        "outputId": "bc188e62-6c72-4079-b49f-0159d9f54f2a"
      },
      "id": "btpLRppcOmH8",
      "execution_count": 75,
      "outputs": [
        {
          "output_type": "execute_result",
          "data": {
            "text/plain": [
              "Index(['WindGustDir', 'WindDir9am', 'WindDir3pm', 'RainToday', 'RainTomorrow'], dtype='object')"
            ]
          },
          "metadata": {},
          "execution_count": 75
        }
      ]
    },
    {
      "cell_type": "code",
      "source": [
        "data.drop(data.columns[index], axis=1, inplace=True)\n",
        "data.dtypes # data의 type은 object? "
      ],
      "metadata": {
        "colab": {
          "base_uri": "https://localhost:8080/"
        },
        "id": "fZfvILHRJPrL",
        "outputId": "2f162d50-7afa-4e7a-f41a-aba1fa1e89ec"
      },
      "id": "fZfvILHRJPrL",
      "execution_count": 76,
      "outputs": [
        {
          "output_type": "execute_result",
          "data": {
            "text/plain": [
              "MinTemp          float64\n",
              "MaxTemp          float64\n",
              "Rainfall         float64\n",
              "Evaporation      float64\n",
              "Sunshine         float64\n",
              "WindGustSpeed    float64\n",
              "WindSpeed9am     float64\n",
              "WindSpeed3pm     float64\n",
              "Humidity9am      float64\n",
              "Humidity3pm      float64\n",
              "Pressure9am      float64\n",
              "Pressure3pm      float64\n",
              "Cloud9am         float64\n",
              "Cloud3pm         float64\n",
              "Temp9am          float64\n",
              "Temp3pm          float64\n",
              "RISK_MM          float64\n",
              "dtype: object"
            ]
          },
          "metadata": {},
          "execution_count": 76
        }
      ]
    },
    {
      "cell_type": "code",
      "source": [],
      "metadata": {
        "id": "_LWC3IHmJPvz"
      },
      "id": "_LWC3IHmJPvz",
      "execution_count": 76,
      "outputs": []
    },
    {
      "cell_type": "markdown",
      "id": "b57e0959",
      "metadata": {
        "id": "b57e0959"
      },
      "source": [
        "### Step 4: Choose 3 columns to create datasets\n",
        "- Use **Humidity3pm** and **Pressure3pm** together with another column to predict **RainTomorrow**\n",
        "- Make a list of three column names **'Humidity3pm', 'Pressure3pm', INSERT YOUR CHOICE** (should be one with dtype *float64*, e.g., **Cloud3pm**), and **'RainTomorrow'**\n",
        "- Create the dataset consisting of these 4 columns"
      ]
    },
    {
      "cell_type": "code",
      "execution_count": 78,
      "id": "3547311f",
      "metadata": {
        "colab": {
          "base_uri": "https://localhost:8080/",
          "height": 353
        },
        "id": "3547311f",
        "outputId": "78f0876c-4249-482c-b3dd-3f90a9cf815b"
      },
      "outputs": [
        {
          "output_type": "error",
          "ename": "KeyError",
          "evalue": "ignored",
          "traceback": [
            "\u001b[0;31m---------------------------------------------------------------------------\u001b[0m",
            "\u001b[0;31mKeyError\u001b[0m                                  Traceback (most recent call last)",
            "\u001b[0;32m<ipython-input-78-4ba0937c23af>\u001b[0m in \u001b[0;36m<module>\u001b[0;34m\u001b[0m\n\u001b[1;32m      1\u001b[0m \u001b[0mheader\u001b[0m \u001b[0;34m=\u001b[0m \u001b[0;34m[\u001b[0m\u001b[0;34m'Humidity3pm'\u001b[0m\u001b[0;34m,\u001b[0m \u001b[0;34m'Pressure3pm'\u001b[0m\u001b[0;34m,\u001b[0m \u001b[0;34m'Cloud3pm'\u001b[0m\u001b[0;34m,\u001b[0m \u001b[0;34m'RainTomorrow'\u001b[0m\u001b[0;34m]\u001b[0m\u001b[0;34m\u001b[0m\u001b[0;34m\u001b[0m\u001b[0m\n\u001b[0;32m----> 2\u001b[0;31m \u001b[0mdataset\u001b[0m \u001b[0;34m=\u001b[0m \u001b[0mdata\u001b[0m\u001b[0;34m[\u001b[0m\u001b[0mheader\u001b[0m\u001b[0;34m]\u001b[0m\u001b[0;34m\u001b[0m\u001b[0;34m\u001b[0m\u001b[0m\n\u001b[0m",
            "\u001b[0;32m/usr/local/lib/python3.8/dist-packages/pandas/core/frame.py\u001b[0m in \u001b[0;36m__getitem__\u001b[0;34m(self, key)\u001b[0m\n\u001b[1;32m   3462\u001b[0m             \u001b[0;32mif\u001b[0m \u001b[0mis_iterator\u001b[0m\u001b[0;34m(\u001b[0m\u001b[0mkey\u001b[0m\u001b[0;34m)\u001b[0m\u001b[0;34m:\u001b[0m\u001b[0;34m\u001b[0m\u001b[0;34m\u001b[0m\u001b[0m\n\u001b[1;32m   3463\u001b[0m                 \u001b[0mkey\u001b[0m \u001b[0;34m=\u001b[0m \u001b[0mlist\u001b[0m\u001b[0;34m(\u001b[0m\u001b[0mkey\u001b[0m\u001b[0;34m)\u001b[0m\u001b[0;34m\u001b[0m\u001b[0;34m\u001b[0m\u001b[0m\n\u001b[0;32m-> 3464\u001b[0;31m             \u001b[0mindexer\u001b[0m \u001b[0;34m=\u001b[0m \u001b[0mself\u001b[0m\u001b[0;34m.\u001b[0m\u001b[0mloc\u001b[0m\u001b[0;34m.\u001b[0m\u001b[0m_get_listlike_indexer\u001b[0m\u001b[0;34m(\u001b[0m\u001b[0mkey\u001b[0m\u001b[0;34m,\u001b[0m \u001b[0maxis\u001b[0m\u001b[0;34m=\u001b[0m\u001b[0;36m1\u001b[0m\u001b[0;34m)\u001b[0m\u001b[0;34m[\u001b[0m\u001b[0;36m1\u001b[0m\u001b[0;34m]\u001b[0m\u001b[0;34m\u001b[0m\u001b[0;34m\u001b[0m\u001b[0m\n\u001b[0m\u001b[1;32m   3465\u001b[0m \u001b[0;34m\u001b[0m\u001b[0m\n\u001b[1;32m   3466\u001b[0m         \u001b[0;31m# take() does not accept boolean indexers\u001b[0m\u001b[0;34m\u001b[0m\u001b[0;34m\u001b[0m\u001b[0;34m\u001b[0m\u001b[0m\n",
            "\u001b[0;32m/usr/local/lib/python3.8/dist-packages/pandas/core/indexing.py\u001b[0m in \u001b[0;36m_get_listlike_indexer\u001b[0;34m(self, key, axis)\u001b[0m\n\u001b[1;32m   1312\u001b[0m             \u001b[0mkeyarr\u001b[0m\u001b[0;34m,\u001b[0m \u001b[0mindexer\u001b[0m\u001b[0;34m,\u001b[0m \u001b[0mnew_indexer\u001b[0m \u001b[0;34m=\u001b[0m \u001b[0max\u001b[0m\u001b[0;34m.\u001b[0m\u001b[0m_reindex_non_unique\u001b[0m\u001b[0;34m(\u001b[0m\u001b[0mkeyarr\u001b[0m\u001b[0;34m)\u001b[0m\u001b[0;34m\u001b[0m\u001b[0;34m\u001b[0m\u001b[0m\n\u001b[1;32m   1313\u001b[0m \u001b[0;34m\u001b[0m\u001b[0m\n\u001b[0;32m-> 1314\u001b[0;31m         \u001b[0mself\u001b[0m\u001b[0;34m.\u001b[0m\u001b[0m_validate_read_indexer\u001b[0m\u001b[0;34m(\u001b[0m\u001b[0mkeyarr\u001b[0m\u001b[0;34m,\u001b[0m \u001b[0mindexer\u001b[0m\u001b[0;34m,\u001b[0m \u001b[0maxis\u001b[0m\u001b[0;34m)\u001b[0m\u001b[0;34m\u001b[0m\u001b[0;34m\u001b[0m\u001b[0m\n\u001b[0m\u001b[1;32m   1315\u001b[0m \u001b[0;34m\u001b[0m\u001b[0m\n\u001b[1;32m   1316\u001b[0m         if needs_i8_conversion(ax.dtype) or isinstance(\n",
            "\u001b[0;32m/usr/local/lib/python3.8/dist-packages/pandas/core/indexing.py\u001b[0m in \u001b[0;36m_validate_read_indexer\u001b[0;34m(self, key, indexer, axis)\u001b[0m\n\u001b[1;32m   1375\u001b[0m \u001b[0;34m\u001b[0m\u001b[0m\n\u001b[1;32m   1376\u001b[0m             \u001b[0mnot_found\u001b[0m \u001b[0;34m=\u001b[0m \u001b[0mlist\u001b[0m\u001b[0;34m(\u001b[0m\u001b[0mensure_index\u001b[0m\u001b[0;34m(\u001b[0m\u001b[0mkey\u001b[0m\u001b[0;34m)\u001b[0m\u001b[0;34m[\u001b[0m\u001b[0mmissing_mask\u001b[0m\u001b[0;34m.\u001b[0m\u001b[0mnonzero\u001b[0m\u001b[0;34m(\u001b[0m\u001b[0;34m)\u001b[0m\u001b[0;34m[\u001b[0m\u001b[0;36m0\u001b[0m\u001b[0;34m]\u001b[0m\u001b[0;34m]\u001b[0m\u001b[0;34m.\u001b[0m\u001b[0munique\u001b[0m\u001b[0;34m(\u001b[0m\u001b[0;34m)\u001b[0m\u001b[0;34m)\u001b[0m\u001b[0;34m\u001b[0m\u001b[0;34m\u001b[0m\u001b[0m\n\u001b[0;32m-> 1377\u001b[0;31m             \u001b[0;32mraise\u001b[0m \u001b[0mKeyError\u001b[0m\u001b[0;34m(\u001b[0m\u001b[0;34mf\"{not_found} not in index\"\u001b[0m\u001b[0;34m)\u001b[0m\u001b[0;34m\u001b[0m\u001b[0;34m\u001b[0m\u001b[0m\n\u001b[0m\u001b[1;32m   1378\u001b[0m \u001b[0;34m\u001b[0m\u001b[0m\n\u001b[1;32m   1379\u001b[0m \u001b[0;34m\u001b[0m\u001b[0m\n",
            "\u001b[0;31mKeyError\u001b[0m: \"['RainTomorrow'] not in index\""
          ]
        }
      ],
      "source": [
        "header = ['Humidity3pm', 'Pressure3pm', 'Cloud3pm', 'RainTomorrow']\n",
        "dataset = data[header]"
      ]
    },
    {
      "cell_type": "markdown",
      "source": [
        "#### KeyError: \"['RainTomorrow'] not in index\"\n",
        "- 원인1 : `data.drop(object_columns, axis=1, inplace=True)`\n",
        "- 원인2 : `data.dtypes == 'object'`\n",
        "- 해결 : `object_columns` 수정"
      ],
      "metadata": {
        "id": "5hDBDAoeKQt4"
      },
      "id": "5hDBDAoeKQt4"
    },
    {
      "cell_type": "code",
      "source": [
        "data = pd.read_csv('/content/mydrive/MyDrive/MachineLearningWithPython/files/weather.csv', parse_dates=True, index_col=0)\n",
        "data.dtypes"
      ],
      "metadata": {
        "colab": {
          "base_uri": "https://localhost:8080/"
        },
        "id": "HAypoj9ZKK5k",
        "outputId": "b681e3a8-3f6d-4e22-ec3a-8e67e473af1f"
      },
      "id": "HAypoj9ZKK5k",
      "execution_count": 79,
      "outputs": [
        {
          "output_type": "execute_result",
          "data": {
            "text/plain": [
              "MinTemp          float64\n",
              "MaxTemp          float64\n",
              "Rainfall         float64\n",
              "Evaporation      float64\n",
              "Sunshine         float64\n",
              "WindGustDir       object\n",
              "WindGustSpeed    float64\n",
              "WindDir9am        object\n",
              "WindDir3pm        object\n",
              "WindSpeed9am     float64\n",
              "WindSpeed3pm     float64\n",
              "Humidity9am      float64\n",
              "Humidity3pm      float64\n",
              "Pressure9am      float64\n",
              "Pressure3pm      float64\n",
              "Cloud9am         float64\n",
              "Cloud3pm         float64\n",
              "Temp9am          float64\n",
              "Temp3pm          float64\n",
              "RainToday         object\n",
              "RISK_MM          float64\n",
              "RainTomorrow      object\n",
              "dtype: object"
            ]
          },
          "metadata": {},
          "execution_count": 79
        }
      ]
    },
    {
      "cell_type": "markdown",
      "source": [
        "#### object_columns 수정\n",
        "- `data['RainTomorrow']`가 drop되면 안된다."
      ],
      "metadata": {
        "id": "joLmDJWsLBXq"
      },
      "id": "joLmDJWsLBXq"
    },
    {
      "cell_type": "code",
      "source": [
        "object_columns = ['WindGustDir', 'WindDir9am', 'WindDir3pm', 'RainToday'] # drop시킬 column들의 names\n",
        "data.drop(object_columns, axis=1, inplace=True)\n",
        "data[header] # dataset consisting of these 4 columns"
      ],
      "metadata": {
        "colab": {
          "base_uri": "https://localhost:8080/",
          "height": 455
        },
        "id": "Rd9V-anGK8Zv",
        "outputId": "fb979838-330d-4907-9ba8-6215bc217b64"
      },
      "id": "Rd9V-anGK8Zv",
      "execution_count": 80,
      "outputs": [
        {
          "output_type": "execute_result",
          "data": {
            "text/plain": [
              "            Humidity3pm  Pressure3pm  Cloud3pm RainTomorrow\n",
              "Date                                                       \n",
              "2008-02-01         84.0       1017.4       8.0          Yes\n",
              "2008-02-02         73.0       1016.4       7.0          Yes\n",
              "2008-02-03         86.0       1015.6       8.0          Yes\n",
              "2008-02-04         90.0       1011.8       8.0          Yes\n",
              "2008-02-05         74.0       1004.8       8.0          Yes\n",
              "...                 ...          ...       ...          ...\n",
              "2017-06-21         52.0       1025.3       2.0           No\n",
              "2017-06-22         53.0       1024.6       2.0           No\n",
              "2017-06-23         56.0       1015.0       6.0           No\n",
              "2017-06-24         35.0       1015.1       2.0           No\n",
              "2017-06-25         32.0       1015.4       1.0           No\n",
              "\n",
              "[3337 rows x 4 columns]"
            ],
            "text/html": [
              "\n",
              "  <div id=\"df-20f17d02-2331-4d5c-8e4f-e020c4ccd172\">\n",
              "    <div class=\"colab-df-container\">\n",
              "      <div>\n",
              "<style scoped>\n",
              "    .dataframe tbody tr th:only-of-type {\n",
              "        vertical-align: middle;\n",
              "    }\n",
              "\n",
              "    .dataframe tbody tr th {\n",
              "        vertical-align: top;\n",
              "    }\n",
              "\n",
              "    .dataframe thead th {\n",
              "        text-align: right;\n",
              "    }\n",
              "</style>\n",
              "<table border=\"1\" class=\"dataframe\">\n",
              "  <thead>\n",
              "    <tr style=\"text-align: right;\">\n",
              "      <th></th>\n",
              "      <th>Humidity3pm</th>\n",
              "      <th>Pressure3pm</th>\n",
              "      <th>Cloud3pm</th>\n",
              "      <th>RainTomorrow</th>\n",
              "    </tr>\n",
              "    <tr>\n",
              "      <th>Date</th>\n",
              "      <th></th>\n",
              "      <th></th>\n",
              "      <th></th>\n",
              "      <th></th>\n",
              "    </tr>\n",
              "  </thead>\n",
              "  <tbody>\n",
              "    <tr>\n",
              "      <th>2008-02-01</th>\n",
              "      <td>84.0</td>\n",
              "      <td>1017.4</td>\n",
              "      <td>8.0</td>\n",
              "      <td>Yes</td>\n",
              "    </tr>\n",
              "    <tr>\n",
              "      <th>2008-02-02</th>\n",
              "      <td>73.0</td>\n",
              "      <td>1016.4</td>\n",
              "      <td>7.0</td>\n",
              "      <td>Yes</td>\n",
              "    </tr>\n",
              "    <tr>\n",
              "      <th>2008-02-03</th>\n",
              "      <td>86.0</td>\n",
              "      <td>1015.6</td>\n",
              "      <td>8.0</td>\n",
              "      <td>Yes</td>\n",
              "    </tr>\n",
              "    <tr>\n",
              "      <th>2008-02-04</th>\n",
              "      <td>90.0</td>\n",
              "      <td>1011.8</td>\n",
              "      <td>8.0</td>\n",
              "      <td>Yes</td>\n",
              "    </tr>\n",
              "    <tr>\n",
              "      <th>2008-02-05</th>\n",
              "      <td>74.0</td>\n",
              "      <td>1004.8</td>\n",
              "      <td>8.0</td>\n",
              "      <td>Yes</td>\n",
              "    </tr>\n",
              "    <tr>\n",
              "      <th>...</th>\n",
              "      <td>...</td>\n",
              "      <td>...</td>\n",
              "      <td>...</td>\n",
              "      <td>...</td>\n",
              "    </tr>\n",
              "    <tr>\n",
              "      <th>2017-06-21</th>\n",
              "      <td>52.0</td>\n",
              "      <td>1025.3</td>\n",
              "      <td>2.0</td>\n",
              "      <td>No</td>\n",
              "    </tr>\n",
              "    <tr>\n",
              "      <th>2017-06-22</th>\n",
              "      <td>53.0</td>\n",
              "      <td>1024.6</td>\n",
              "      <td>2.0</td>\n",
              "      <td>No</td>\n",
              "    </tr>\n",
              "    <tr>\n",
              "      <th>2017-06-23</th>\n",
              "      <td>56.0</td>\n",
              "      <td>1015.0</td>\n",
              "      <td>6.0</td>\n",
              "      <td>No</td>\n",
              "    </tr>\n",
              "    <tr>\n",
              "      <th>2017-06-24</th>\n",
              "      <td>35.0</td>\n",
              "      <td>1015.1</td>\n",
              "      <td>2.0</td>\n",
              "      <td>No</td>\n",
              "    </tr>\n",
              "    <tr>\n",
              "      <th>2017-06-25</th>\n",
              "      <td>32.0</td>\n",
              "      <td>1015.4</td>\n",
              "      <td>1.0</td>\n",
              "      <td>No</td>\n",
              "    </tr>\n",
              "  </tbody>\n",
              "</table>\n",
              "<p>3337 rows × 4 columns</p>\n",
              "</div>\n",
              "      <button class=\"colab-df-convert\" onclick=\"convertToInteractive('df-20f17d02-2331-4d5c-8e4f-e020c4ccd172')\"\n",
              "              title=\"Convert this dataframe to an interactive table.\"\n",
              "              style=\"display:none;\">\n",
              "        \n",
              "  <svg xmlns=\"http://www.w3.org/2000/svg\" height=\"24px\"viewBox=\"0 0 24 24\"\n",
              "       width=\"24px\">\n",
              "    <path d=\"M0 0h24v24H0V0z\" fill=\"none\"/>\n",
              "    <path d=\"M18.56 5.44l.94 2.06.94-2.06 2.06-.94-2.06-.94-.94-2.06-.94 2.06-2.06.94zm-11 1L8.5 8.5l.94-2.06 2.06-.94-2.06-.94L8.5 2.5l-.94 2.06-2.06.94zm10 10l.94 2.06.94-2.06 2.06-.94-2.06-.94-.94-2.06-.94 2.06-2.06.94z\"/><path d=\"M17.41 7.96l-1.37-1.37c-.4-.4-.92-.59-1.43-.59-.52 0-1.04.2-1.43.59L10.3 9.45l-7.72 7.72c-.78.78-.78 2.05 0 2.83L4 21.41c.39.39.9.59 1.41.59.51 0 1.02-.2 1.41-.59l7.78-7.78 2.81-2.81c.8-.78.8-2.07 0-2.86zM5.41 20L4 18.59l7.72-7.72 1.47 1.35L5.41 20z\"/>\n",
              "  </svg>\n",
              "      </button>\n",
              "      \n",
              "  <style>\n",
              "    .colab-df-container {\n",
              "      display:flex;\n",
              "      flex-wrap:wrap;\n",
              "      gap: 12px;\n",
              "    }\n",
              "\n",
              "    .colab-df-convert {\n",
              "      background-color: #E8F0FE;\n",
              "      border: none;\n",
              "      border-radius: 50%;\n",
              "      cursor: pointer;\n",
              "      display: none;\n",
              "      fill: #1967D2;\n",
              "      height: 32px;\n",
              "      padding: 0 0 0 0;\n",
              "      width: 32px;\n",
              "    }\n",
              "\n",
              "    .colab-df-convert:hover {\n",
              "      background-color: #E2EBFA;\n",
              "      box-shadow: 0px 1px 2px rgba(60, 64, 67, 0.3), 0px 1px 3px 1px rgba(60, 64, 67, 0.15);\n",
              "      fill: #174EA6;\n",
              "    }\n",
              "\n",
              "    [theme=dark] .colab-df-convert {\n",
              "      background-color: #3B4455;\n",
              "      fill: #D2E3FC;\n",
              "    }\n",
              "\n",
              "    [theme=dark] .colab-df-convert:hover {\n",
              "      background-color: #434B5C;\n",
              "      box-shadow: 0px 1px 3px 1px rgba(0, 0, 0, 0.15);\n",
              "      filter: drop-shadow(0px 1px 2px rgba(0, 0, 0, 0.3));\n",
              "      fill: #FFFFFF;\n",
              "    }\n",
              "  </style>\n",
              "\n",
              "      <script>\n",
              "        const buttonEl =\n",
              "          document.querySelector('#df-20f17d02-2331-4d5c-8e4f-e020c4ccd172 button.colab-df-convert');\n",
              "        buttonEl.style.display =\n",
              "          google.colab.kernel.accessAllowed ? 'block' : 'none';\n",
              "\n",
              "        async function convertToInteractive(key) {\n",
              "          const element = document.querySelector('#df-20f17d02-2331-4d5c-8e4f-e020c4ccd172');\n",
              "          const dataTable =\n",
              "            await google.colab.kernel.invokeFunction('convertToInteractive',\n",
              "                                                     [key], {});\n",
              "          if (!dataTable) return;\n",
              "\n",
              "          const docLinkHtml = 'Like what you see? Visit the ' +\n",
              "            '<a target=\"_blank\" href=https://colab.research.google.com/notebooks/data_table.ipynb>data table notebook</a>'\n",
              "            + ' to learn more about interactive tables.';\n",
              "          element.innerHTML = '';\n",
              "          dataTable['output_type'] = 'display_data';\n",
              "          await google.colab.output.renderOutput(dataTable, element);\n",
              "          const docLink = document.createElement('div');\n",
              "          docLink.innerHTML = docLinkHtml;\n",
              "          element.appendChild(docLink);\n",
              "        }\n",
              "      </script>\n",
              "    </div>\n",
              "  </div>\n",
              "  "
            ]
          },
          "metadata": {},
          "execution_count": 80
        }
      ]
    },
    {
      "cell_type": "markdown",
      "id": "d5de442b",
      "metadata": {
        "id": "d5de442b"
      },
      "source": [
        "### Step 5: Deal with remaining missing data\n",
        "- A simple choice is to simply remove rows with missing data\n",
        "- Use [dropna()](https://pandas.pydata.org/docs/reference/api/pandas.DataFrame.dropna.html)"
      ]
    },
    {
      "cell_type": "code",
      "source": [
        "Dataset = data[header]\n",
        "Dataset"
      ],
      "metadata": {
        "colab": {
          "base_uri": "https://localhost:8080/",
          "height": 455
        },
        "id": "XJjkJQ1sR-HG",
        "outputId": "1a15deab-ae57-4927-8d53-0a10c86aacdb"
      },
      "id": "XJjkJQ1sR-HG",
      "execution_count": 81,
      "outputs": [
        {
          "output_type": "execute_result",
          "data": {
            "text/plain": [
              "            Humidity3pm  Pressure3pm  Cloud3pm RainTomorrow\n",
              "Date                                                       \n",
              "2008-02-01         84.0       1017.4       8.0          Yes\n",
              "2008-02-02         73.0       1016.4       7.0          Yes\n",
              "2008-02-03         86.0       1015.6       8.0          Yes\n",
              "2008-02-04         90.0       1011.8       8.0          Yes\n",
              "2008-02-05         74.0       1004.8       8.0          Yes\n",
              "...                 ...          ...       ...          ...\n",
              "2017-06-21         52.0       1025.3       2.0           No\n",
              "2017-06-22         53.0       1024.6       2.0           No\n",
              "2017-06-23         56.0       1015.0       6.0           No\n",
              "2017-06-24         35.0       1015.1       2.0           No\n",
              "2017-06-25         32.0       1015.4       1.0           No\n",
              "\n",
              "[3337 rows x 4 columns]"
            ],
            "text/html": [
              "\n",
              "  <div id=\"df-b0be3224-4f73-4417-929c-fa0e2e4d912f\">\n",
              "    <div class=\"colab-df-container\">\n",
              "      <div>\n",
              "<style scoped>\n",
              "    .dataframe tbody tr th:only-of-type {\n",
              "        vertical-align: middle;\n",
              "    }\n",
              "\n",
              "    .dataframe tbody tr th {\n",
              "        vertical-align: top;\n",
              "    }\n",
              "\n",
              "    .dataframe thead th {\n",
              "        text-align: right;\n",
              "    }\n",
              "</style>\n",
              "<table border=\"1\" class=\"dataframe\">\n",
              "  <thead>\n",
              "    <tr style=\"text-align: right;\">\n",
              "      <th></th>\n",
              "      <th>Humidity3pm</th>\n",
              "      <th>Pressure3pm</th>\n",
              "      <th>Cloud3pm</th>\n",
              "      <th>RainTomorrow</th>\n",
              "    </tr>\n",
              "    <tr>\n",
              "      <th>Date</th>\n",
              "      <th></th>\n",
              "      <th></th>\n",
              "      <th></th>\n",
              "      <th></th>\n",
              "    </tr>\n",
              "  </thead>\n",
              "  <tbody>\n",
              "    <tr>\n",
              "      <th>2008-02-01</th>\n",
              "      <td>84.0</td>\n",
              "      <td>1017.4</td>\n",
              "      <td>8.0</td>\n",
              "      <td>Yes</td>\n",
              "    </tr>\n",
              "    <tr>\n",
              "      <th>2008-02-02</th>\n",
              "      <td>73.0</td>\n",
              "      <td>1016.4</td>\n",
              "      <td>7.0</td>\n",
              "      <td>Yes</td>\n",
              "    </tr>\n",
              "    <tr>\n",
              "      <th>2008-02-03</th>\n",
              "      <td>86.0</td>\n",
              "      <td>1015.6</td>\n",
              "      <td>8.0</td>\n",
              "      <td>Yes</td>\n",
              "    </tr>\n",
              "    <tr>\n",
              "      <th>2008-02-04</th>\n",
              "      <td>90.0</td>\n",
              "      <td>1011.8</td>\n",
              "      <td>8.0</td>\n",
              "      <td>Yes</td>\n",
              "    </tr>\n",
              "    <tr>\n",
              "      <th>2008-02-05</th>\n",
              "      <td>74.0</td>\n",
              "      <td>1004.8</td>\n",
              "      <td>8.0</td>\n",
              "      <td>Yes</td>\n",
              "    </tr>\n",
              "    <tr>\n",
              "      <th>...</th>\n",
              "      <td>...</td>\n",
              "      <td>...</td>\n",
              "      <td>...</td>\n",
              "      <td>...</td>\n",
              "    </tr>\n",
              "    <tr>\n",
              "      <th>2017-06-21</th>\n",
              "      <td>52.0</td>\n",
              "      <td>1025.3</td>\n",
              "      <td>2.0</td>\n",
              "      <td>No</td>\n",
              "    </tr>\n",
              "    <tr>\n",
              "      <th>2017-06-22</th>\n",
              "      <td>53.0</td>\n",
              "      <td>1024.6</td>\n",
              "      <td>2.0</td>\n",
              "      <td>No</td>\n",
              "    </tr>\n",
              "    <tr>\n",
              "      <th>2017-06-23</th>\n",
              "      <td>56.0</td>\n",
              "      <td>1015.0</td>\n",
              "      <td>6.0</td>\n",
              "      <td>No</td>\n",
              "    </tr>\n",
              "    <tr>\n",
              "      <th>2017-06-24</th>\n",
              "      <td>35.0</td>\n",
              "      <td>1015.1</td>\n",
              "      <td>2.0</td>\n",
              "      <td>No</td>\n",
              "    </tr>\n",
              "    <tr>\n",
              "      <th>2017-06-25</th>\n",
              "      <td>32.0</td>\n",
              "      <td>1015.4</td>\n",
              "      <td>1.0</td>\n",
              "      <td>No</td>\n",
              "    </tr>\n",
              "  </tbody>\n",
              "</table>\n",
              "<p>3337 rows × 4 columns</p>\n",
              "</div>\n",
              "      <button class=\"colab-df-convert\" onclick=\"convertToInteractive('df-b0be3224-4f73-4417-929c-fa0e2e4d912f')\"\n",
              "              title=\"Convert this dataframe to an interactive table.\"\n",
              "              style=\"display:none;\">\n",
              "        \n",
              "  <svg xmlns=\"http://www.w3.org/2000/svg\" height=\"24px\"viewBox=\"0 0 24 24\"\n",
              "       width=\"24px\">\n",
              "    <path d=\"M0 0h24v24H0V0z\" fill=\"none\"/>\n",
              "    <path d=\"M18.56 5.44l.94 2.06.94-2.06 2.06-.94-2.06-.94-.94-2.06-.94 2.06-2.06.94zm-11 1L8.5 8.5l.94-2.06 2.06-.94-2.06-.94L8.5 2.5l-.94 2.06-2.06.94zm10 10l.94 2.06.94-2.06 2.06-.94-2.06-.94-.94-2.06-.94 2.06-2.06.94z\"/><path d=\"M17.41 7.96l-1.37-1.37c-.4-.4-.92-.59-1.43-.59-.52 0-1.04.2-1.43.59L10.3 9.45l-7.72 7.72c-.78.78-.78 2.05 0 2.83L4 21.41c.39.39.9.59 1.41.59.51 0 1.02-.2 1.41-.59l7.78-7.78 2.81-2.81c.8-.78.8-2.07 0-2.86zM5.41 20L4 18.59l7.72-7.72 1.47 1.35L5.41 20z\"/>\n",
              "  </svg>\n",
              "      </button>\n",
              "      \n",
              "  <style>\n",
              "    .colab-df-container {\n",
              "      display:flex;\n",
              "      flex-wrap:wrap;\n",
              "      gap: 12px;\n",
              "    }\n",
              "\n",
              "    .colab-df-convert {\n",
              "      background-color: #E8F0FE;\n",
              "      border: none;\n",
              "      border-radius: 50%;\n",
              "      cursor: pointer;\n",
              "      display: none;\n",
              "      fill: #1967D2;\n",
              "      height: 32px;\n",
              "      padding: 0 0 0 0;\n",
              "      width: 32px;\n",
              "    }\n",
              "\n",
              "    .colab-df-convert:hover {\n",
              "      background-color: #E2EBFA;\n",
              "      box-shadow: 0px 1px 2px rgba(60, 64, 67, 0.3), 0px 1px 3px 1px rgba(60, 64, 67, 0.15);\n",
              "      fill: #174EA6;\n",
              "    }\n",
              "\n",
              "    [theme=dark] .colab-df-convert {\n",
              "      background-color: #3B4455;\n",
              "      fill: #D2E3FC;\n",
              "    }\n",
              "\n",
              "    [theme=dark] .colab-df-convert:hover {\n",
              "      background-color: #434B5C;\n",
              "      box-shadow: 0px 1px 3px 1px rgba(0, 0, 0, 0.15);\n",
              "      filter: drop-shadow(0px 1px 2px rgba(0, 0, 0, 0.3));\n",
              "      fill: #FFFFFF;\n",
              "    }\n",
              "  </style>\n",
              "\n",
              "      <script>\n",
              "        const buttonEl =\n",
              "          document.querySelector('#df-b0be3224-4f73-4417-929c-fa0e2e4d912f button.colab-df-convert');\n",
              "        buttonEl.style.display =\n",
              "          google.colab.kernel.accessAllowed ? 'block' : 'none';\n",
              "\n",
              "        async function convertToInteractive(key) {\n",
              "          const element = document.querySelector('#df-b0be3224-4f73-4417-929c-fa0e2e4d912f');\n",
              "          const dataTable =\n",
              "            await google.colab.kernel.invokeFunction('convertToInteractive',\n",
              "                                                     [key], {});\n",
              "          if (!dataTable) return;\n",
              "\n",
              "          const docLinkHtml = 'Like what you see? Visit the ' +\n",
              "            '<a target=\"_blank\" href=https://colab.research.google.com/notebooks/data_table.ipynb>data table notebook</a>'\n",
              "            + ' to learn more about interactive tables.';\n",
              "          element.innerHTML = '';\n",
              "          dataTable['output_type'] = 'display_data';\n",
              "          await google.colab.output.renderOutput(dataTable, element);\n",
              "          const docLink = document.createElement('div');\n",
              "          docLink.innerHTML = docLinkHtml;\n",
              "          element.appendChild(docLink);\n",
              "        }\n",
              "      </script>\n",
              "    </div>\n",
              "  </div>\n",
              "  "
            ]
          },
          "metadata": {},
          "execution_count": 81
        }
      ]
    },
    {
      "cell_type": "markdown",
      "source": [
        "#### remaining missing data\n",
        "- [참고자료](https://www.kaggle.com/code/alexisbcook/handling-missing-values/tutorial)"
      ],
      "metadata": {
        "id": "_EOGjlEESZsN"
      },
      "id": "_EOGjlEESZsN"
    },
    {
      "cell_type": "code",
      "source": [
        "missing_val_count_by_column = Dataset.isnull().sum()\n",
        "missing_val_count_by_column[missing_val_count_by_column > 0]"
      ],
      "metadata": {
        "colab": {
          "base_uri": "https://localhost:8080/"
        },
        "id": "hHTjpqU7SSsK",
        "outputId": "9b3fc040-d2e4-41a2-ec65-15df764f3913"
      },
      "id": "hHTjpqU7SSsK",
      "execution_count": 82,
      "outputs": [
        {
          "output_type": "execute_result",
          "data": {
            "text/plain": [
              "Humidity3pm     13\n",
              "Pressure3pm     19\n",
              "Cloud3pm       561\n",
              "dtype: int64"
            ]
          },
          "metadata": {},
          "execution_count": 82
        }
      ]
    },
    {
      "cell_type": "markdown",
      "source": [
        "- 방법1 : from kaggle 실패 (사유: 비슷하지만 다른 문제)"
      ],
      "metadata": {
        "id": "nU0LpIS9URfJ"
      },
      "id": "nU0LpIS9URfJ"
    },
    {
      "cell_type": "code",
      "source": [
        "# cols_with_missing을 rows_with_missing으로 바꾸고 \n",
        "# dropna(rows_with_missing, axis=1)으로\n",
        "# 수정하면 이 코드를 사용할 수 있을 것 같다.\n",
        "cols_with_missing = [col for col in Dataset.columns\n",
        "                     if Dataset[col].isnull().any()]\n",
        "reduced_Dataset = Dataset.drop(cols_with_missing, axis=0)\n",
        "reduced_Dataset"
      ],
      "metadata": {
        "colab": {
          "base_uri": "https://localhost:8080/",
          "height": 391
        },
        "id": "lVB3LypyTQ-E",
        "outputId": "85b9796a-ef43-4fc1-f19f-e93f9f5fafb6"
      },
      "id": "lVB3LypyTQ-E",
      "execution_count": 84,
      "outputs": [
        {
          "output_type": "error",
          "ename": "KeyError",
          "evalue": "ignored",
          "traceback": [
            "\u001b[0;31m---------------------------------------------------------------------------\u001b[0m",
            "\u001b[0;31mKeyError\u001b[0m                                  Traceback (most recent call last)",
            "\u001b[0;32m<ipython-input-84-b99c49892efc>\u001b[0m in \u001b[0;36m<module>\u001b[0;34m\u001b[0m\n\u001b[1;32m      4\u001b[0m cols_with_missing = [col for col in Dataset.columns\n\u001b[1;32m      5\u001b[0m                      if Dataset[col].isnull().any()]\n\u001b[0;32m----> 6\u001b[0;31m \u001b[0mreduced_Dataset\u001b[0m \u001b[0;34m=\u001b[0m \u001b[0mDataset\u001b[0m\u001b[0;34m.\u001b[0m\u001b[0mdrop\u001b[0m\u001b[0;34m(\u001b[0m\u001b[0mcols_with_missing\u001b[0m\u001b[0;34m,\u001b[0m \u001b[0maxis\u001b[0m\u001b[0;34m=\u001b[0m\u001b[0;36m0\u001b[0m\u001b[0;34m)\u001b[0m\u001b[0;34m\u001b[0m\u001b[0;34m\u001b[0m\u001b[0m\n\u001b[0m\u001b[1;32m      7\u001b[0m \u001b[0mreduced_Dataset\u001b[0m\u001b[0;34m\u001b[0m\u001b[0;34m\u001b[0m\u001b[0m\n",
            "\u001b[0;32m/usr/local/lib/python3.8/dist-packages/pandas/util/_decorators.py\u001b[0m in \u001b[0;36mwrapper\u001b[0;34m(*args, **kwargs)\u001b[0m\n\u001b[1;32m    309\u001b[0m                     \u001b[0mstacklevel\u001b[0m\u001b[0;34m=\u001b[0m\u001b[0mstacklevel\u001b[0m\u001b[0;34m,\u001b[0m\u001b[0;34m\u001b[0m\u001b[0;34m\u001b[0m\u001b[0m\n\u001b[1;32m    310\u001b[0m                 )\n\u001b[0;32m--> 311\u001b[0;31m             \u001b[0;32mreturn\u001b[0m \u001b[0mfunc\u001b[0m\u001b[0;34m(\u001b[0m\u001b[0;34m*\u001b[0m\u001b[0margs\u001b[0m\u001b[0;34m,\u001b[0m \u001b[0;34m**\u001b[0m\u001b[0mkwargs\u001b[0m\u001b[0;34m)\u001b[0m\u001b[0;34m\u001b[0m\u001b[0;34m\u001b[0m\u001b[0m\n\u001b[0m\u001b[1;32m    312\u001b[0m \u001b[0;34m\u001b[0m\u001b[0m\n\u001b[1;32m    313\u001b[0m         \u001b[0;32mreturn\u001b[0m \u001b[0mwrapper\u001b[0m\u001b[0;34m\u001b[0m\u001b[0;34m\u001b[0m\u001b[0m\n",
            "\u001b[0;32m/usr/local/lib/python3.8/dist-packages/pandas/core/frame.py\u001b[0m in \u001b[0;36mdrop\u001b[0;34m(self, labels, axis, index, columns, level, inplace, errors)\u001b[0m\n\u001b[1;32m   4904\u001b[0m                 \u001b[0mweight\u001b[0m  \u001b[0;36m1.0\u001b[0m     \u001b[0;36m0.8\u001b[0m\u001b[0;34m\u001b[0m\u001b[0;34m\u001b[0m\u001b[0m\n\u001b[1;32m   4905\u001b[0m         \"\"\"\n\u001b[0;32m-> 4906\u001b[0;31m         return super().drop(\n\u001b[0m\u001b[1;32m   4907\u001b[0m             \u001b[0mlabels\u001b[0m\u001b[0;34m=\u001b[0m\u001b[0mlabels\u001b[0m\u001b[0;34m,\u001b[0m\u001b[0;34m\u001b[0m\u001b[0;34m\u001b[0m\u001b[0m\n\u001b[1;32m   4908\u001b[0m             \u001b[0maxis\u001b[0m\u001b[0;34m=\u001b[0m\u001b[0maxis\u001b[0m\u001b[0;34m,\u001b[0m\u001b[0;34m\u001b[0m\u001b[0;34m\u001b[0m\u001b[0m\n",
            "\u001b[0;32m/usr/local/lib/python3.8/dist-packages/pandas/core/generic.py\u001b[0m in \u001b[0;36mdrop\u001b[0;34m(self, labels, axis, index, columns, level, inplace, errors)\u001b[0m\n\u001b[1;32m   4148\u001b[0m         \u001b[0;32mfor\u001b[0m \u001b[0maxis\u001b[0m\u001b[0;34m,\u001b[0m \u001b[0mlabels\u001b[0m \u001b[0;32min\u001b[0m \u001b[0maxes\u001b[0m\u001b[0;34m.\u001b[0m\u001b[0mitems\u001b[0m\u001b[0;34m(\u001b[0m\u001b[0;34m)\u001b[0m\u001b[0;34m:\u001b[0m\u001b[0;34m\u001b[0m\u001b[0;34m\u001b[0m\u001b[0m\n\u001b[1;32m   4149\u001b[0m             \u001b[0;32mif\u001b[0m \u001b[0mlabels\u001b[0m \u001b[0;32mis\u001b[0m \u001b[0;32mnot\u001b[0m \u001b[0;32mNone\u001b[0m\u001b[0;34m:\u001b[0m\u001b[0;34m\u001b[0m\u001b[0;34m\u001b[0m\u001b[0m\n\u001b[0;32m-> 4150\u001b[0;31m                 \u001b[0mobj\u001b[0m \u001b[0;34m=\u001b[0m \u001b[0mobj\u001b[0m\u001b[0;34m.\u001b[0m\u001b[0m_drop_axis\u001b[0m\u001b[0;34m(\u001b[0m\u001b[0mlabels\u001b[0m\u001b[0;34m,\u001b[0m \u001b[0maxis\u001b[0m\u001b[0;34m,\u001b[0m \u001b[0mlevel\u001b[0m\u001b[0;34m=\u001b[0m\u001b[0mlevel\u001b[0m\u001b[0;34m,\u001b[0m \u001b[0merrors\u001b[0m\u001b[0;34m=\u001b[0m\u001b[0merrors\u001b[0m\u001b[0;34m)\u001b[0m\u001b[0;34m\u001b[0m\u001b[0;34m\u001b[0m\u001b[0m\n\u001b[0m\u001b[1;32m   4151\u001b[0m \u001b[0;34m\u001b[0m\u001b[0m\n\u001b[1;32m   4152\u001b[0m         \u001b[0;32mif\u001b[0m \u001b[0minplace\u001b[0m\u001b[0;34m:\u001b[0m\u001b[0;34m\u001b[0m\u001b[0;34m\u001b[0m\u001b[0m\n",
            "\u001b[0;32m/usr/local/lib/python3.8/dist-packages/pandas/core/generic.py\u001b[0m in \u001b[0;36m_drop_axis\u001b[0;34m(self, labels, axis, level, errors)\u001b[0m\n\u001b[1;32m   4183\u001b[0m                 \u001b[0mnew_axis\u001b[0m \u001b[0;34m=\u001b[0m \u001b[0maxis\u001b[0m\u001b[0;34m.\u001b[0m\u001b[0mdrop\u001b[0m\u001b[0;34m(\u001b[0m\u001b[0mlabels\u001b[0m\u001b[0;34m,\u001b[0m \u001b[0mlevel\u001b[0m\u001b[0;34m=\u001b[0m\u001b[0mlevel\u001b[0m\u001b[0;34m,\u001b[0m \u001b[0merrors\u001b[0m\u001b[0;34m=\u001b[0m\u001b[0merrors\u001b[0m\u001b[0;34m)\u001b[0m\u001b[0;34m\u001b[0m\u001b[0;34m\u001b[0m\u001b[0m\n\u001b[1;32m   4184\u001b[0m             \u001b[0;32melse\u001b[0m\u001b[0;34m:\u001b[0m\u001b[0;34m\u001b[0m\u001b[0;34m\u001b[0m\u001b[0m\n\u001b[0;32m-> 4185\u001b[0;31m                 \u001b[0mnew_axis\u001b[0m \u001b[0;34m=\u001b[0m \u001b[0maxis\u001b[0m\u001b[0;34m.\u001b[0m\u001b[0mdrop\u001b[0m\u001b[0;34m(\u001b[0m\u001b[0mlabels\u001b[0m\u001b[0;34m,\u001b[0m \u001b[0merrors\u001b[0m\u001b[0;34m=\u001b[0m\u001b[0merrors\u001b[0m\u001b[0;34m)\u001b[0m\u001b[0;34m\u001b[0m\u001b[0;34m\u001b[0m\u001b[0m\n\u001b[0m\u001b[1;32m   4186\u001b[0m             \u001b[0mresult\u001b[0m \u001b[0;34m=\u001b[0m \u001b[0mself\u001b[0m\u001b[0;34m.\u001b[0m\u001b[0mreindex\u001b[0m\u001b[0;34m(\u001b[0m\u001b[0;34m**\u001b[0m\u001b[0;34m{\u001b[0m\u001b[0maxis_name\u001b[0m\u001b[0;34m:\u001b[0m \u001b[0mnew_axis\u001b[0m\u001b[0;34m}\u001b[0m\u001b[0;34m)\u001b[0m\u001b[0;34m\u001b[0m\u001b[0;34m\u001b[0m\u001b[0m\n\u001b[1;32m   4187\u001b[0m \u001b[0;34m\u001b[0m\u001b[0m\n",
            "\u001b[0;32m/usr/local/lib/python3.8/dist-packages/pandas/core/indexes/base.py\u001b[0m in \u001b[0;36mdrop\u001b[0;34m(self, labels, errors)\u001b[0m\n\u001b[1;32m   6015\u001b[0m         \u001b[0;32mif\u001b[0m \u001b[0mmask\u001b[0m\u001b[0;34m.\u001b[0m\u001b[0many\u001b[0m\u001b[0;34m(\u001b[0m\u001b[0;34m)\u001b[0m\u001b[0;34m:\u001b[0m\u001b[0;34m\u001b[0m\u001b[0;34m\u001b[0m\u001b[0m\n\u001b[1;32m   6016\u001b[0m             \u001b[0;32mif\u001b[0m \u001b[0merrors\u001b[0m \u001b[0;34m!=\u001b[0m \u001b[0;34m\"ignore\"\u001b[0m\u001b[0;34m:\u001b[0m\u001b[0;34m\u001b[0m\u001b[0;34m\u001b[0m\u001b[0m\n\u001b[0;32m-> 6017\u001b[0;31m                 \u001b[0;32mraise\u001b[0m \u001b[0mKeyError\u001b[0m\u001b[0;34m(\u001b[0m\u001b[0;34mf\"{labels[mask]} not found in axis\"\u001b[0m\u001b[0;34m)\u001b[0m\u001b[0;34m\u001b[0m\u001b[0;34m\u001b[0m\u001b[0m\n\u001b[0m\u001b[1;32m   6018\u001b[0m             \u001b[0mindexer\u001b[0m \u001b[0;34m=\u001b[0m \u001b[0mindexer\u001b[0m\u001b[0;34m[\u001b[0m\u001b[0;34m~\u001b[0m\u001b[0mmask\u001b[0m\u001b[0;34m]\u001b[0m\u001b[0;34m\u001b[0m\u001b[0;34m\u001b[0m\u001b[0m\n\u001b[1;32m   6019\u001b[0m         \u001b[0;32mreturn\u001b[0m \u001b[0mself\u001b[0m\u001b[0;34m.\u001b[0m\u001b[0mdelete\u001b[0m\u001b[0;34m(\u001b[0m\u001b[0mindexer\u001b[0m\u001b[0;34m)\u001b[0m\u001b[0;34m\u001b[0m\u001b[0;34m\u001b[0m\u001b[0m\n",
            "\u001b[0;31mKeyError\u001b[0m: \"['Humidity3pm' 'Pressure3pm' 'Cloud3pm'] not found in axis\""
          ]
        }
      ]
    },
    {
      "cell_type": "markdown",
      "source": [
        "#### 방법2 : dropna(axis=0) 성공"
      ],
      "metadata": {
        "id": "A1gJ8k_LVfD0"
      },
      "id": "A1gJ8k_LVfD0"
    },
    {
      "cell_type": "code",
      "source": [
        "Dataset.dropna(axis=0, inplace=True)\n",
        "Dataset # 3337 rows -> 2754 rows"
      ],
      "metadata": {
        "colab": {
          "base_uri": "https://localhost:8080/",
          "height": 550
        },
        "id": "3ty4cblUV_1w",
        "outputId": "ea97417a-1947-46d2-ce0d-ae33aaf5a906"
      },
      "id": "3ty4cblUV_1w",
      "execution_count": 85,
      "outputs": [
        {
          "output_type": "stream",
          "name": "stderr",
          "text": [
            "/usr/local/lib/python3.8/dist-packages/pandas/util/_decorators.py:311: SettingWithCopyWarning: \n",
            "A value is trying to be set on a copy of a slice from a DataFrame\n",
            "\n",
            "See the caveats in the documentation: https://pandas.pydata.org/pandas-docs/stable/user_guide/indexing.html#returning-a-view-versus-a-copy\n",
            "  return func(*args, **kwargs)\n"
          ]
        },
        {
          "output_type": "execute_result",
          "data": {
            "text/plain": [
              "            Humidity3pm  Pressure3pm  Cloud3pm RainTomorrow\n",
              "Date                                                       \n",
              "2008-02-01         84.0       1017.4       8.0          Yes\n",
              "2008-02-02         73.0       1016.4       7.0          Yes\n",
              "2008-02-03         86.0       1015.6       8.0          Yes\n",
              "2008-02-04         90.0       1011.8       8.0          Yes\n",
              "2008-02-05         74.0       1004.8       8.0          Yes\n",
              "...                 ...          ...       ...          ...\n",
              "2017-06-21         52.0       1025.3       2.0           No\n",
              "2017-06-22         53.0       1024.6       2.0           No\n",
              "2017-06-23         56.0       1015.0       6.0           No\n",
              "2017-06-24         35.0       1015.1       2.0           No\n",
              "2017-06-25         32.0       1015.4       1.0           No\n",
              "\n",
              "[2754 rows x 4 columns]"
            ],
            "text/html": [
              "\n",
              "  <div id=\"df-36a4a6a8-1ed3-4306-bde9-18918ec15add\">\n",
              "    <div class=\"colab-df-container\">\n",
              "      <div>\n",
              "<style scoped>\n",
              "    .dataframe tbody tr th:only-of-type {\n",
              "        vertical-align: middle;\n",
              "    }\n",
              "\n",
              "    .dataframe tbody tr th {\n",
              "        vertical-align: top;\n",
              "    }\n",
              "\n",
              "    .dataframe thead th {\n",
              "        text-align: right;\n",
              "    }\n",
              "</style>\n",
              "<table border=\"1\" class=\"dataframe\">\n",
              "  <thead>\n",
              "    <tr style=\"text-align: right;\">\n",
              "      <th></th>\n",
              "      <th>Humidity3pm</th>\n",
              "      <th>Pressure3pm</th>\n",
              "      <th>Cloud3pm</th>\n",
              "      <th>RainTomorrow</th>\n",
              "    </tr>\n",
              "    <tr>\n",
              "      <th>Date</th>\n",
              "      <th></th>\n",
              "      <th></th>\n",
              "      <th></th>\n",
              "      <th></th>\n",
              "    </tr>\n",
              "  </thead>\n",
              "  <tbody>\n",
              "    <tr>\n",
              "      <th>2008-02-01</th>\n",
              "      <td>84.0</td>\n",
              "      <td>1017.4</td>\n",
              "      <td>8.0</td>\n",
              "      <td>Yes</td>\n",
              "    </tr>\n",
              "    <tr>\n",
              "      <th>2008-02-02</th>\n",
              "      <td>73.0</td>\n",
              "      <td>1016.4</td>\n",
              "      <td>7.0</td>\n",
              "      <td>Yes</td>\n",
              "    </tr>\n",
              "    <tr>\n",
              "      <th>2008-02-03</th>\n",
              "      <td>86.0</td>\n",
              "      <td>1015.6</td>\n",
              "      <td>8.0</td>\n",
              "      <td>Yes</td>\n",
              "    </tr>\n",
              "    <tr>\n",
              "      <th>2008-02-04</th>\n",
              "      <td>90.0</td>\n",
              "      <td>1011.8</td>\n",
              "      <td>8.0</td>\n",
              "      <td>Yes</td>\n",
              "    </tr>\n",
              "    <tr>\n",
              "      <th>2008-02-05</th>\n",
              "      <td>74.0</td>\n",
              "      <td>1004.8</td>\n",
              "      <td>8.0</td>\n",
              "      <td>Yes</td>\n",
              "    </tr>\n",
              "    <tr>\n",
              "      <th>...</th>\n",
              "      <td>...</td>\n",
              "      <td>...</td>\n",
              "      <td>...</td>\n",
              "      <td>...</td>\n",
              "    </tr>\n",
              "    <tr>\n",
              "      <th>2017-06-21</th>\n",
              "      <td>52.0</td>\n",
              "      <td>1025.3</td>\n",
              "      <td>2.0</td>\n",
              "      <td>No</td>\n",
              "    </tr>\n",
              "    <tr>\n",
              "      <th>2017-06-22</th>\n",
              "      <td>53.0</td>\n",
              "      <td>1024.6</td>\n",
              "      <td>2.0</td>\n",
              "      <td>No</td>\n",
              "    </tr>\n",
              "    <tr>\n",
              "      <th>2017-06-23</th>\n",
              "      <td>56.0</td>\n",
              "      <td>1015.0</td>\n",
              "      <td>6.0</td>\n",
              "      <td>No</td>\n",
              "    </tr>\n",
              "    <tr>\n",
              "      <th>2017-06-24</th>\n",
              "      <td>35.0</td>\n",
              "      <td>1015.1</td>\n",
              "      <td>2.0</td>\n",
              "      <td>No</td>\n",
              "    </tr>\n",
              "    <tr>\n",
              "      <th>2017-06-25</th>\n",
              "      <td>32.0</td>\n",
              "      <td>1015.4</td>\n",
              "      <td>1.0</td>\n",
              "      <td>No</td>\n",
              "    </tr>\n",
              "  </tbody>\n",
              "</table>\n",
              "<p>2754 rows × 4 columns</p>\n",
              "</div>\n",
              "      <button class=\"colab-df-convert\" onclick=\"convertToInteractive('df-36a4a6a8-1ed3-4306-bde9-18918ec15add')\"\n",
              "              title=\"Convert this dataframe to an interactive table.\"\n",
              "              style=\"display:none;\">\n",
              "        \n",
              "  <svg xmlns=\"http://www.w3.org/2000/svg\" height=\"24px\"viewBox=\"0 0 24 24\"\n",
              "       width=\"24px\">\n",
              "    <path d=\"M0 0h24v24H0V0z\" fill=\"none\"/>\n",
              "    <path d=\"M18.56 5.44l.94 2.06.94-2.06 2.06-.94-2.06-.94-.94-2.06-.94 2.06-2.06.94zm-11 1L8.5 8.5l.94-2.06 2.06-.94-2.06-.94L8.5 2.5l-.94 2.06-2.06.94zm10 10l.94 2.06.94-2.06 2.06-.94-2.06-.94-.94-2.06-.94 2.06-2.06.94z\"/><path d=\"M17.41 7.96l-1.37-1.37c-.4-.4-.92-.59-1.43-.59-.52 0-1.04.2-1.43.59L10.3 9.45l-7.72 7.72c-.78.78-.78 2.05 0 2.83L4 21.41c.39.39.9.59 1.41.59.51 0 1.02-.2 1.41-.59l7.78-7.78 2.81-2.81c.8-.78.8-2.07 0-2.86zM5.41 20L4 18.59l7.72-7.72 1.47 1.35L5.41 20z\"/>\n",
              "  </svg>\n",
              "      </button>\n",
              "      \n",
              "  <style>\n",
              "    .colab-df-container {\n",
              "      display:flex;\n",
              "      flex-wrap:wrap;\n",
              "      gap: 12px;\n",
              "    }\n",
              "\n",
              "    .colab-df-convert {\n",
              "      background-color: #E8F0FE;\n",
              "      border: none;\n",
              "      border-radius: 50%;\n",
              "      cursor: pointer;\n",
              "      display: none;\n",
              "      fill: #1967D2;\n",
              "      height: 32px;\n",
              "      padding: 0 0 0 0;\n",
              "      width: 32px;\n",
              "    }\n",
              "\n",
              "    .colab-df-convert:hover {\n",
              "      background-color: #E2EBFA;\n",
              "      box-shadow: 0px 1px 2px rgba(60, 64, 67, 0.3), 0px 1px 3px 1px rgba(60, 64, 67, 0.15);\n",
              "      fill: #174EA6;\n",
              "    }\n",
              "\n",
              "    [theme=dark] .colab-df-convert {\n",
              "      background-color: #3B4455;\n",
              "      fill: #D2E3FC;\n",
              "    }\n",
              "\n",
              "    [theme=dark] .colab-df-convert:hover {\n",
              "      background-color: #434B5C;\n",
              "      box-shadow: 0px 1px 3px 1px rgba(0, 0, 0, 0.15);\n",
              "      filter: drop-shadow(0px 1px 2px rgba(0, 0, 0, 0.3));\n",
              "      fill: #FFFFFF;\n",
              "    }\n",
              "  </style>\n",
              "\n",
              "      <script>\n",
              "        const buttonEl =\n",
              "          document.querySelector('#df-36a4a6a8-1ed3-4306-bde9-18918ec15add button.colab-df-convert');\n",
              "        buttonEl.style.display =\n",
              "          google.colab.kernel.accessAllowed ? 'block' : 'none';\n",
              "\n",
              "        async function convertToInteractive(key) {\n",
              "          const element = document.querySelector('#df-36a4a6a8-1ed3-4306-bde9-18918ec15add');\n",
              "          const dataTable =\n",
              "            await google.colab.kernel.invokeFunction('convertToInteractive',\n",
              "                                                     [key], {});\n",
              "          if (!dataTable) return;\n",
              "\n",
              "          const docLinkHtml = 'Like what you see? Visit the ' +\n",
              "            '<a target=\"_blank\" href=https://colab.research.google.com/notebooks/data_table.ipynb>data table notebook</a>'\n",
              "            + ' to learn more about interactive tables.';\n",
              "          element.innerHTML = '';\n",
              "          dataTable['output_type'] = 'display_data';\n",
              "          await google.colab.output.renderOutput(dataTable, element);\n",
              "          const docLink = document.createElement('div');\n",
              "          docLink.innerHTML = docLinkHtml;\n",
              "          element.appendChild(docLink);\n",
              "        }\n",
              "      </script>\n",
              "    </div>\n",
              "  </div>\n",
              "  "
            ]
          },
          "metadata": {},
          "execution_count": 85
        }
      ]
    },
    {
      "cell_type": "code",
      "execution_count": 85,
      "id": "c28b1cbd",
      "metadata": {
        "id": "c28b1cbd"
      },
      "outputs": [],
      "source": []
    },
    {
      "cell_type": "markdown",
      "id": "34fd807b",
      "metadata": {
        "id": "34fd807b"
      },
      "source": [
        "### Step 6: Create training and test datasets\n",
        "- Define dataset **X** to be the data consisting of the three columns.\n",
        "- Define dataset **y** to be datset cosisting of **'RainTomorrow'**.\n",
        "    - HINT: Use list comprehension to transform **'No'** and **'Yes'** to 0 and 1, repectively (like in the Lesson)\n",
        "- Divide into **X_train, X_test, y_train, y_test** with **train_test_split**\n",
        "    - HINT: See how it is done in Lesson\n",
        "    - You can use **random_state=42** (or any other number) if you want to reproduce results."
      ]
    },
    {
      "cell_type": "code",
      "source": [
        "Dataset"
      ],
      "metadata": {
        "colab": {
          "base_uri": "https://localhost:8080/",
          "height": 455
        },
        "id": "BNaZwHCYXQg0",
        "outputId": "cdd10c4d-1c51-4c43-cdbd-ceb807aaebbf"
      },
      "id": "BNaZwHCYXQg0",
      "execution_count": 86,
      "outputs": [
        {
          "output_type": "execute_result",
          "data": {
            "text/plain": [
              "            Humidity3pm  Pressure3pm  Cloud3pm RainTomorrow\n",
              "Date                                                       \n",
              "2008-02-01         84.0       1017.4       8.0          Yes\n",
              "2008-02-02         73.0       1016.4       7.0          Yes\n",
              "2008-02-03         86.0       1015.6       8.0          Yes\n",
              "2008-02-04         90.0       1011.8       8.0          Yes\n",
              "2008-02-05         74.0       1004.8       8.0          Yes\n",
              "...                 ...          ...       ...          ...\n",
              "2017-06-21         52.0       1025.3       2.0           No\n",
              "2017-06-22         53.0       1024.6       2.0           No\n",
              "2017-06-23         56.0       1015.0       6.0           No\n",
              "2017-06-24         35.0       1015.1       2.0           No\n",
              "2017-06-25         32.0       1015.4       1.0           No\n",
              "\n",
              "[2754 rows x 4 columns]"
            ],
            "text/html": [
              "\n",
              "  <div id=\"df-418eb597-7430-4579-bbc7-07653356775d\">\n",
              "    <div class=\"colab-df-container\">\n",
              "      <div>\n",
              "<style scoped>\n",
              "    .dataframe tbody tr th:only-of-type {\n",
              "        vertical-align: middle;\n",
              "    }\n",
              "\n",
              "    .dataframe tbody tr th {\n",
              "        vertical-align: top;\n",
              "    }\n",
              "\n",
              "    .dataframe thead th {\n",
              "        text-align: right;\n",
              "    }\n",
              "</style>\n",
              "<table border=\"1\" class=\"dataframe\">\n",
              "  <thead>\n",
              "    <tr style=\"text-align: right;\">\n",
              "      <th></th>\n",
              "      <th>Humidity3pm</th>\n",
              "      <th>Pressure3pm</th>\n",
              "      <th>Cloud3pm</th>\n",
              "      <th>RainTomorrow</th>\n",
              "    </tr>\n",
              "    <tr>\n",
              "      <th>Date</th>\n",
              "      <th></th>\n",
              "      <th></th>\n",
              "      <th></th>\n",
              "      <th></th>\n",
              "    </tr>\n",
              "  </thead>\n",
              "  <tbody>\n",
              "    <tr>\n",
              "      <th>2008-02-01</th>\n",
              "      <td>84.0</td>\n",
              "      <td>1017.4</td>\n",
              "      <td>8.0</td>\n",
              "      <td>Yes</td>\n",
              "    </tr>\n",
              "    <tr>\n",
              "      <th>2008-02-02</th>\n",
              "      <td>73.0</td>\n",
              "      <td>1016.4</td>\n",
              "      <td>7.0</td>\n",
              "      <td>Yes</td>\n",
              "    </tr>\n",
              "    <tr>\n",
              "      <th>2008-02-03</th>\n",
              "      <td>86.0</td>\n",
              "      <td>1015.6</td>\n",
              "      <td>8.0</td>\n",
              "      <td>Yes</td>\n",
              "    </tr>\n",
              "    <tr>\n",
              "      <th>2008-02-04</th>\n",
              "      <td>90.0</td>\n",
              "      <td>1011.8</td>\n",
              "      <td>8.0</td>\n",
              "      <td>Yes</td>\n",
              "    </tr>\n",
              "    <tr>\n",
              "      <th>2008-02-05</th>\n",
              "      <td>74.0</td>\n",
              "      <td>1004.8</td>\n",
              "      <td>8.0</td>\n",
              "      <td>Yes</td>\n",
              "    </tr>\n",
              "    <tr>\n",
              "      <th>...</th>\n",
              "      <td>...</td>\n",
              "      <td>...</td>\n",
              "      <td>...</td>\n",
              "      <td>...</td>\n",
              "    </tr>\n",
              "    <tr>\n",
              "      <th>2017-06-21</th>\n",
              "      <td>52.0</td>\n",
              "      <td>1025.3</td>\n",
              "      <td>2.0</td>\n",
              "      <td>No</td>\n",
              "    </tr>\n",
              "    <tr>\n",
              "      <th>2017-06-22</th>\n",
              "      <td>53.0</td>\n",
              "      <td>1024.6</td>\n",
              "      <td>2.0</td>\n",
              "      <td>No</td>\n",
              "    </tr>\n",
              "    <tr>\n",
              "      <th>2017-06-23</th>\n",
              "      <td>56.0</td>\n",
              "      <td>1015.0</td>\n",
              "      <td>6.0</td>\n",
              "      <td>No</td>\n",
              "    </tr>\n",
              "    <tr>\n",
              "      <th>2017-06-24</th>\n",
              "      <td>35.0</td>\n",
              "      <td>1015.1</td>\n",
              "      <td>2.0</td>\n",
              "      <td>No</td>\n",
              "    </tr>\n",
              "    <tr>\n",
              "      <th>2017-06-25</th>\n",
              "      <td>32.0</td>\n",
              "      <td>1015.4</td>\n",
              "      <td>1.0</td>\n",
              "      <td>No</td>\n",
              "    </tr>\n",
              "  </tbody>\n",
              "</table>\n",
              "<p>2754 rows × 4 columns</p>\n",
              "</div>\n",
              "      <button class=\"colab-df-convert\" onclick=\"convertToInteractive('df-418eb597-7430-4579-bbc7-07653356775d')\"\n",
              "              title=\"Convert this dataframe to an interactive table.\"\n",
              "              style=\"display:none;\">\n",
              "        \n",
              "  <svg xmlns=\"http://www.w3.org/2000/svg\" height=\"24px\"viewBox=\"0 0 24 24\"\n",
              "       width=\"24px\">\n",
              "    <path d=\"M0 0h24v24H0V0z\" fill=\"none\"/>\n",
              "    <path d=\"M18.56 5.44l.94 2.06.94-2.06 2.06-.94-2.06-.94-.94-2.06-.94 2.06-2.06.94zm-11 1L8.5 8.5l.94-2.06 2.06-.94-2.06-.94L8.5 2.5l-.94 2.06-2.06.94zm10 10l.94 2.06.94-2.06 2.06-.94-2.06-.94-.94-2.06-.94 2.06-2.06.94z\"/><path d=\"M17.41 7.96l-1.37-1.37c-.4-.4-.92-.59-1.43-.59-.52 0-1.04.2-1.43.59L10.3 9.45l-7.72 7.72c-.78.78-.78 2.05 0 2.83L4 21.41c.39.39.9.59 1.41.59.51 0 1.02-.2 1.41-.59l7.78-7.78 2.81-2.81c.8-.78.8-2.07 0-2.86zM5.41 20L4 18.59l7.72-7.72 1.47 1.35L5.41 20z\"/>\n",
              "  </svg>\n",
              "      </button>\n",
              "      \n",
              "  <style>\n",
              "    .colab-df-container {\n",
              "      display:flex;\n",
              "      flex-wrap:wrap;\n",
              "      gap: 12px;\n",
              "    }\n",
              "\n",
              "    .colab-df-convert {\n",
              "      background-color: #E8F0FE;\n",
              "      border: none;\n",
              "      border-radius: 50%;\n",
              "      cursor: pointer;\n",
              "      display: none;\n",
              "      fill: #1967D2;\n",
              "      height: 32px;\n",
              "      padding: 0 0 0 0;\n",
              "      width: 32px;\n",
              "    }\n",
              "\n",
              "    .colab-df-convert:hover {\n",
              "      background-color: #E2EBFA;\n",
              "      box-shadow: 0px 1px 2px rgba(60, 64, 67, 0.3), 0px 1px 3px 1px rgba(60, 64, 67, 0.15);\n",
              "      fill: #174EA6;\n",
              "    }\n",
              "\n",
              "    [theme=dark] .colab-df-convert {\n",
              "      background-color: #3B4455;\n",
              "      fill: #D2E3FC;\n",
              "    }\n",
              "\n",
              "    [theme=dark] .colab-df-convert:hover {\n",
              "      background-color: #434B5C;\n",
              "      box-shadow: 0px 1px 3px 1px rgba(0, 0, 0, 0.15);\n",
              "      filter: drop-shadow(0px 1px 2px rgba(0, 0, 0, 0.3));\n",
              "      fill: #FFFFFF;\n",
              "    }\n",
              "  </style>\n",
              "\n",
              "      <script>\n",
              "        const buttonEl =\n",
              "          document.querySelector('#df-418eb597-7430-4579-bbc7-07653356775d button.colab-df-convert');\n",
              "        buttonEl.style.display =\n",
              "          google.colab.kernel.accessAllowed ? 'block' : 'none';\n",
              "\n",
              "        async function convertToInteractive(key) {\n",
              "          const element = document.querySelector('#df-418eb597-7430-4579-bbc7-07653356775d');\n",
              "          const dataTable =\n",
              "            await google.colab.kernel.invokeFunction('convertToInteractive',\n",
              "                                                     [key], {});\n",
              "          if (!dataTable) return;\n",
              "\n",
              "          const docLinkHtml = 'Like what you see? Visit the ' +\n",
              "            '<a target=\"_blank\" href=https://colab.research.google.com/notebooks/data_table.ipynb>data table notebook</a>'\n",
              "            + ' to learn more about interactive tables.';\n",
              "          element.innerHTML = '';\n",
              "          dataTable['output_type'] = 'display_data';\n",
              "          await google.colab.output.renderOutput(dataTable, element);\n",
              "          const docLink = document.createElement('div');\n",
              "          docLink.innerHTML = docLinkHtml;\n",
              "          element.appendChild(docLink);\n",
              "        }\n",
              "      </script>\n",
              "    </div>\n",
              "  </div>\n",
              "  "
            ]
          },
          "metadata": {},
          "execution_count": 86
        }
      ]
    },
    {
      "cell_type": "markdown",
      "source": [
        "#### features X"
      ],
      "metadata": {
        "id": "ruGGKjvxYKuL"
      },
      "id": "ruGGKjvxYKuL"
    },
    {
      "cell_type": "code",
      "source": [
        "X = Dataset.loc[:, :'Cloud3pm']\n",
        "X # X consist of the first three columns"
      ],
      "metadata": {
        "colab": {
          "base_uri": "https://localhost:8080/",
          "height": 455
        },
        "id": "o-AAUiFEXY84",
        "outputId": "ccc14286-e594-4fb3-8d73-e09ad239ebb9"
      },
      "id": "o-AAUiFEXY84",
      "execution_count": 87,
      "outputs": [
        {
          "output_type": "execute_result",
          "data": {
            "text/plain": [
              "            Humidity3pm  Pressure3pm  Cloud3pm\n",
              "Date                                          \n",
              "2008-02-01         84.0       1017.4       8.0\n",
              "2008-02-02         73.0       1016.4       7.0\n",
              "2008-02-03         86.0       1015.6       8.0\n",
              "2008-02-04         90.0       1011.8       8.0\n",
              "2008-02-05         74.0       1004.8       8.0\n",
              "...                 ...          ...       ...\n",
              "2017-06-21         52.0       1025.3       2.0\n",
              "2017-06-22         53.0       1024.6       2.0\n",
              "2017-06-23         56.0       1015.0       6.0\n",
              "2017-06-24         35.0       1015.1       2.0\n",
              "2017-06-25         32.0       1015.4       1.0\n",
              "\n",
              "[2754 rows x 3 columns]"
            ],
            "text/html": [
              "\n",
              "  <div id=\"df-ca22d038-ffd5-4967-aad2-5cdb92f5324a\">\n",
              "    <div class=\"colab-df-container\">\n",
              "      <div>\n",
              "<style scoped>\n",
              "    .dataframe tbody tr th:only-of-type {\n",
              "        vertical-align: middle;\n",
              "    }\n",
              "\n",
              "    .dataframe tbody tr th {\n",
              "        vertical-align: top;\n",
              "    }\n",
              "\n",
              "    .dataframe thead th {\n",
              "        text-align: right;\n",
              "    }\n",
              "</style>\n",
              "<table border=\"1\" class=\"dataframe\">\n",
              "  <thead>\n",
              "    <tr style=\"text-align: right;\">\n",
              "      <th></th>\n",
              "      <th>Humidity3pm</th>\n",
              "      <th>Pressure3pm</th>\n",
              "      <th>Cloud3pm</th>\n",
              "    </tr>\n",
              "    <tr>\n",
              "      <th>Date</th>\n",
              "      <th></th>\n",
              "      <th></th>\n",
              "      <th></th>\n",
              "    </tr>\n",
              "  </thead>\n",
              "  <tbody>\n",
              "    <tr>\n",
              "      <th>2008-02-01</th>\n",
              "      <td>84.0</td>\n",
              "      <td>1017.4</td>\n",
              "      <td>8.0</td>\n",
              "    </tr>\n",
              "    <tr>\n",
              "      <th>2008-02-02</th>\n",
              "      <td>73.0</td>\n",
              "      <td>1016.4</td>\n",
              "      <td>7.0</td>\n",
              "    </tr>\n",
              "    <tr>\n",
              "      <th>2008-02-03</th>\n",
              "      <td>86.0</td>\n",
              "      <td>1015.6</td>\n",
              "      <td>8.0</td>\n",
              "    </tr>\n",
              "    <tr>\n",
              "      <th>2008-02-04</th>\n",
              "      <td>90.0</td>\n",
              "      <td>1011.8</td>\n",
              "      <td>8.0</td>\n",
              "    </tr>\n",
              "    <tr>\n",
              "      <th>2008-02-05</th>\n",
              "      <td>74.0</td>\n",
              "      <td>1004.8</td>\n",
              "      <td>8.0</td>\n",
              "    </tr>\n",
              "    <tr>\n",
              "      <th>...</th>\n",
              "      <td>...</td>\n",
              "      <td>...</td>\n",
              "      <td>...</td>\n",
              "    </tr>\n",
              "    <tr>\n",
              "      <th>2017-06-21</th>\n",
              "      <td>52.0</td>\n",
              "      <td>1025.3</td>\n",
              "      <td>2.0</td>\n",
              "    </tr>\n",
              "    <tr>\n",
              "      <th>2017-06-22</th>\n",
              "      <td>53.0</td>\n",
              "      <td>1024.6</td>\n",
              "      <td>2.0</td>\n",
              "    </tr>\n",
              "    <tr>\n",
              "      <th>2017-06-23</th>\n",
              "      <td>56.0</td>\n",
              "      <td>1015.0</td>\n",
              "      <td>6.0</td>\n",
              "    </tr>\n",
              "    <tr>\n",
              "      <th>2017-06-24</th>\n",
              "      <td>35.0</td>\n",
              "      <td>1015.1</td>\n",
              "      <td>2.0</td>\n",
              "    </tr>\n",
              "    <tr>\n",
              "      <th>2017-06-25</th>\n",
              "      <td>32.0</td>\n",
              "      <td>1015.4</td>\n",
              "      <td>1.0</td>\n",
              "    </tr>\n",
              "  </tbody>\n",
              "</table>\n",
              "<p>2754 rows × 3 columns</p>\n",
              "</div>\n",
              "      <button class=\"colab-df-convert\" onclick=\"convertToInteractive('df-ca22d038-ffd5-4967-aad2-5cdb92f5324a')\"\n",
              "              title=\"Convert this dataframe to an interactive table.\"\n",
              "              style=\"display:none;\">\n",
              "        \n",
              "  <svg xmlns=\"http://www.w3.org/2000/svg\" height=\"24px\"viewBox=\"0 0 24 24\"\n",
              "       width=\"24px\">\n",
              "    <path d=\"M0 0h24v24H0V0z\" fill=\"none\"/>\n",
              "    <path d=\"M18.56 5.44l.94 2.06.94-2.06 2.06-.94-2.06-.94-.94-2.06-.94 2.06-2.06.94zm-11 1L8.5 8.5l.94-2.06 2.06-.94-2.06-.94L8.5 2.5l-.94 2.06-2.06.94zm10 10l.94 2.06.94-2.06 2.06-.94-2.06-.94-.94-2.06-.94 2.06-2.06.94z\"/><path d=\"M17.41 7.96l-1.37-1.37c-.4-.4-.92-.59-1.43-.59-.52 0-1.04.2-1.43.59L10.3 9.45l-7.72 7.72c-.78.78-.78 2.05 0 2.83L4 21.41c.39.39.9.59 1.41.59.51 0 1.02-.2 1.41-.59l7.78-7.78 2.81-2.81c.8-.78.8-2.07 0-2.86zM5.41 20L4 18.59l7.72-7.72 1.47 1.35L5.41 20z\"/>\n",
              "  </svg>\n",
              "      </button>\n",
              "      \n",
              "  <style>\n",
              "    .colab-df-container {\n",
              "      display:flex;\n",
              "      flex-wrap:wrap;\n",
              "      gap: 12px;\n",
              "    }\n",
              "\n",
              "    .colab-df-convert {\n",
              "      background-color: #E8F0FE;\n",
              "      border: none;\n",
              "      border-radius: 50%;\n",
              "      cursor: pointer;\n",
              "      display: none;\n",
              "      fill: #1967D2;\n",
              "      height: 32px;\n",
              "      padding: 0 0 0 0;\n",
              "      width: 32px;\n",
              "    }\n",
              "\n",
              "    .colab-df-convert:hover {\n",
              "      background-color: #E2EBFA;\n",
              "      box-shadow: 0px 1px 2px rgba(60, 64, 67, 0.3), 0px 1px 3px 1px rgba(60, 64, 67, 0.15);\n",
              "      fill: #174EA6;\n",
              "    }\n",
              "\n",
              "    [theme=dark] .colab-df-convert {\n",
              "      background-color: #3B4455;\n",
              "      fill: #D2E3FC;\n",
              "    }\n",
              "\n",
              "    [theme=dark] .colab-df-convert:hover {\n",
              "      background-color: #434B5C;\n",
              "      box-shadow: 0px 1px 3px 1px rgba(0, 0, 0, 0.15);\n",
              "      filter: drop-shadow(0px 1px 2px rgba(0, 0, 0, 0.3));\n",
              "      fill: #FFFFFF;\n",
              "    }\n",
              "  </style>\n",
              "\n",
              "      <script>\n",
              "        const buttonEl =\n",
              "          document.querySelector('#df-ca22d038-ffd5-4967-aad2-5cdb92f5324a button.colab-df-convert');\n",
              "        buttonEl.style.display =\n",
              "          google.colab.kernel.accessAllowed ? 'block' : 'none';\n",
              "\n",
              "        async function convertToInteractive(key) {\n",
              "          const element = document.querySelector('#df-ca22d038-ffd5-4967-aad2-5cdb92f5324a');\n",
              "          const dataTable =\n",
              "            await google.colab.kernel.invokeFunction('convertToInteractive',\n",
              "                                                     [key], {});\n",
              "          if (!dataTable) return;\n",
              "\n",
              "          const docLinkHtml = 'Like what you see? Visit the ' +\n",
              "            '<a target=\"_blank\" href=https://colab.research.google.com/notebooks/data_table.ipynb>data table notebook</a>'\n",
              "            + ' to learn more about interactive tables.';\n",
              "          element.innerHTML = '';\n",
              "          dataTable['output_type'] = 'display_data';\n",
              "          await google.colab.output.renderOutput(dataTable, element);\n",
              "          const docLink = document.createElement('div');\n",
              "          docLink.innerHTML = docLinkHtml;\n",
              "          element.appendChild(docLink);\n",
              "        }\n",
              "      </script>\n",
              "    </div>\n",
              "  </div>\n",
              "  "
            ]
          },
          "metadata": {},
          "execution_count": 87
        }
      ]
    },
    {
      "cell_type": "markdown",
      "source": [
        "#### target y"
      ],
      "metadata": {
        "id": "_5eiomNgYNUz"
      },
      "id": "_5eiomNgYNUz"
    },
    {
      "cell_type": "code",
      "source": [
        "y = Dataset.loc[:, 'RainTomorrow']\n",
        "y # y cosist of 'RainTomorrow'"
      ],
      "metadata": {
        "colab": {
          "base_uri": "https://localhost:8080/"
        },
        "id": "PviHwHxGXZwV",
        "outputId": "aca2ac58-6241-435f-b813-da0034bfa81e"
      },
      "id": "PviHwHxGXZwV",
      "execution_count": 88,
      "outputs": [
        {
          "output_type": "execute_result",
          "data": {
            "text/plain": [
              "Date\n",
              "2008-02-01    Yes\n",
              "2008-02-02    Yes\n",
              "2008-02-03    Yes\n",
              "2008-02-04    Yes\n",
              "2008-02-05    Yes\n",
              "             ... \n",
              "2017-06-21     No\n",
              "2017-06-22     No\n",
              "2017-06-23     No\n",
              "2017-06-24     No\n",
              "2017-06-25     No\n",
              "Name: RainTomorrow, Length: 2754, dtype: object"
            ]
          },
          "metadata": {},
          "execution_count": 88
        }
      ]
    },
    {
      "cell_type": "markdown",
      "source": [
        "####  label encoding\n",
        "- transform 'No' and 'Yes' to 0 and 1, repectively"
      ],
      "metadata": {
        "id": "ibjwPIb7Yia-"
      },
      "id": "ibjwPIb7Yia-"
    },
    {
      "cell_type": "markdown",
      "source": [
        "- 방법1 : [LabelEncoder](https://scikit-learn.org/stable/modules/generated/sklearn.preprocessing.LabelEncoder.html) (Encode target labels with value between 0 and n_classes-1.)"
      ],
      "metadata": {
        "id": "a6qAoakxYssv"
      },
      "id": "a6qAoakxYssv"
    },
    {
      "cell_type": "code",
      "source": [
        "from sklearn.preprocessing import LabelEncoder\n",
        "le = LabelEncoder()\n",
        "le.fit(y)\n",
        "le.classes_ # non-numerical labels"
      ],
      "metadata": {
        "colab": {
          "base_uri": "https://localhost:8080/"
        },
        "id": "kydDBZrqYarY",
        "outputId": "61654ed7-d60c-48a7-c50e-f79ed4acdda9"
      },
      "id": "kydDBZrqYarY",
      "execution_count": 89,
      "outputs": [
        {
          "output_type": "execute_result",
          "data": {
            "text/plain": [
              "array(['No', 'Yes'], dtype=object)"
            ]
          },
          "metadata": {},
          "execution_count": 89
        }
      ]
    },
    {
      "cell_type": "code",
      "source": [
        "encoded_labels = le.fit_transform(y)\n",
        "encoded_labels"
      ],
      "metadata": {
        "colab": {
          "base_uri": "https://localhost:8080/"
        },
        "id": "N39uRDneZ6lU",
        "outputId": "b176eece-5363-499c-d650-769b4367ba7e"
      },
      "id": "N39uRDneZ6lU",
      "execution_count": 90,
      "outputs": [
        {
          "output_type": "execute_result",
          "data": {
            "text/plain": [
              "array([1, 1, 1, ..., 0, 0, 0])"
            ]
          },
          "metadata": {},
          "execution_count": 90
        }
      ]
    },
    {
      "cell_type": "code",
      "source": [
        "pd.Series(encoded_labels).unique(return_counts=True)"
      ],
      "metadata": {
        "colab": {
          "base_uri": "https://localhost:8080/",
          "height": 177
        },
        "id": "yS_I7oNnzlDq",
        "outputId": "4c6622b8-9b67-4e42-f167-dd3cfc9a1da3"
      },
      "id": "yS_I7oNnzlDq",
      "execution_count": 115,
      "outputs": [
        {
          "output_type": "error",
          "ename": "TypeError",
          "evalue": "ignored",
          "traceback": [
            "\u001b[0;31m---------------------------------------------------------------------------\u001b[0m",
            "\u001b[0;31mTypeError\u001b[0m                                 Traceback (most recent call last)",
            "\u001b[0;32m<ipython-input-115-04884db63850>\u001b[0m in \u001b[0;36m<module>\u001b[0;34m\u001b[0m\n\u001b[0;32m----> 1\u001b[0;31m \u001b[0mpd\u001b[0m\u001b[0;34m.\u001b[0m\u001b[0mSeries\u001b[0m\u001b[0;34m(\u001b[0m\u001b[0mencoded_labels\u001b[0m\u001b[0;34m)\u001b[0m\u001b[0;34m.\u001b[0m\u001b[0munique\u001b[0m\u001b[0;34m(\u001b[0m\u001b[0mreturn_counts\u001b[0m\u001b[0;34m=\u001b[0m\u001b[0;32mTrue\u001b[0m\u001b[0;34m)\u001b[0m\u001b[0;34m\u001b[0m\u001b[0;34m\u001b[0m\u001b[0m\n\u001b[0m",
            "\u001b[0;31mTypeError\u001b[0m: unique() got an unexpected keyword argument 'return_counts'"
          ]
        }
      ]
    },
    {
      "cell_type": "markdown",
      "source": [
        "- 방법2: Rune's way"
      ],
      "metadata": {
        "id": "JVRFG5jqZDRn"
      },
      "id": "JVRFG5jqZDRn"
    },
    {
      "cell_type": "code",
      "execution_count": 91,
      "id": "6f4c8a4a",
      "metadata": {
        "colab": {
          "base_uri": "https://localhost:8080/",
          "height": 36
        },
        "id": "6f4c8a4a",
        "outputId": "d6504efa-69a4-4732-eb19-d46664c8ee9a"
      },
      "outputs": [
        {
          "output_type": "execute_result",
          "data": {
            "text/plain": [
              "'\\nX = dataset_clean[header[:3]]\\ny = dataset_clean[header[3]]\\n'"
            ],
            "application/vnd.google.colaboratory.intrinsic+json": {
              "type": "string"
            }
          },
          "metadata": {},
          "execution_count": 91
        }
      ],
      "source": [
        "\"\"\"\n",
        "X = dataset_clean[header[:3]]\n",
        "y = dataset_clean[header[3]]\n",
        "\"\"\"\n",
        "# y = np.array([0 if value == 'No' else 1 for value in y])\n",
        "#y # got exactly same result with method 1"
      ]
    },
    {
      "cell_type": "markdown",
      "source": [
        "#### Holdout Cross Validation을 위한 split"
      ],
      "metadata": {
        "id": "7mdzGe37bbKI"
      },
      "id": "7mdzGe37bbKI"
    },
    {
      "cell_type": "code",
      "execution_count": 92,
      "id": "8c1b6601",
      "metadata": {
        "id": "8c1b6601"
      },
      "outputs": [],
      "source": [
        "X_train, X_valid, y_train, y_valid = train_test_split(X, y, random_state=42)"
      ]
    },
    {
      "cell_type": "markdown",
      "id": "17012c4b",
      "metadata": {
        "id": "17012c4b"
      },
      "source": [
        "### Step 7: Train and test the model\n",
        "- Create classifier with **KNeighborsClassifier**\n",
        "    - You can play around with n_neighbors (default =5)\n",
        "- Fit the model with training data **(X_train, y_train**)\n",
        "- Predict data from **X_test** (use predict) and assign to **y_pred**.\n",
        "- Evalute score by using **metrics.accuracy_score(y_test, y_pred)**."
      ]
    },
    {
      "cell_type": "code",
      "source": [
        "knn = KNeighborsClassifier(n_neighbors=6) # 임의로 수정 to 6\n",
        "X_train"
      ],
      "metadata": {
        "colab": {
          "base_uri": "https://localhost:8080/",
          "height": 455
        },
        "id": "9ijukLVBb5Qt",
        "outputId": "636c73c0-fbb9-4357-c5aa-84f927157b62"
      },
      "id": "9ijukLVBb5Qt",
      "execution_count": 93,
      "outputs": [
        {
          "output_type": "execute_result",
          "data": {
            "text/plain": [
              "            Humidity3pm  Pressure3pm  Cloud3pm\n",
              "Date                                          \n",
              "2009-09-06         58.0       1014.0       1.0\n",
              "2010-03-29         56.0       1016.4       8.0\n",
              "2013-06-09         63.0       1024.3       7.0\n",
              "2013-04-14         54.0       1010.9       2.0\n",
              "2013-11-01         61.0       1020.2       7.0\n",
              "...                 ...          ...       ...\n",
              "2014-06-01         70.0       1018.0       8.0\n",
              "2012-10-07         32.0       1013.7       1.0\n",
              "2012-11-11         45.0       1026.6       2.0\n",
              "2013-06-22         83.0       1024.2       7.0\n",
              "2010-06-13         50.0       1028.9       1.0\n",
              "\n",
              "[2065 rows x 3 columns]"
            ],
            "text/html": [
              "\n",
              "  <div id=\"df-2d30a677-69ae-4e5f-873e-5d00a2a65a4b\">\n",
              "    <div class=\"colab-df-container\">\n",
              "      <div>\n",
              "<style scoped>\n",
              "    .dataframe tbody tr th:only-of-type {\n",
              "        vertical-align: middle;\n",
              "    }\n",
              "\n",
              "    .dataframe tbody tr th {\n",
              "        vertical-align: top;\n",
              "    }\n",
              "\n",
              "    .dataframe thead th {\n",
              "        text-align: right;\n",
              "    }\n",
              "</style>\n",
              "<table border=\"1\" class=\"dataframe\">\n",
              "  <thead>\n",
              "    <tr style=\"text-align: right;\">\n",
              "      <th></th>\n",
              "      <th>Humidity3pm</th>\n",
              "      <th>Pressure3pm</th>\n",
              "      <th>Cloud3pm</th>\n",
              "    </tr>\n",
              "    <tr>\n",
              "      <th>Date</th>\n",
              "      <th></th>\n",
              "      <th></th>\n",
              "      <th></th>\n",
              "    </tr>\n",
              "  </thead>\n",
              "  <tbody>\n",
              "    <tr>\n",
              "      <th>2009-09-06</th>\n",
              "      <td>58.0</td>\n",
              "      <td>1014.0</td>\n",
              "      <td>1.0</td>\n",
              "    </tr>\n",
              "    <tr>\n",
              "      <th>2010-03-29</th>\n",
              "      <td>56.0</td>\n",
              "      <td>1016.4</td>\n",
              "      <td>8.0</td>\n",
              "    </tr>\n",
              "    <tr>\n",
              "      <th>2013-06-09</th>\n",
              "      <td>63.0</td>\n",
              "      <td>1024.3</td>\n",
              "      <td>7.0</td>\n",
              "    </tr>\n",
              "    <tr>\n",
              "      <th>2013-04-14</th>\n",
              "      <td>54.0</td>\n",
              "      <td>1010.9</td>\n",
              "      <td>2.0</td>\n",
              "    </tr>\n",
              "    <tr>\n",
              "      <th>2013-11-01</th>\n",
              "      <td>61.0</td>\n",
              "      <td>1020.2</td>\n",
              "      <td>7.0</td>\n",
              "    </tr>\n",
              "    <tr>\n",
              "      <th>...</th>\n",
              "      <td>...</td>\n",
              "      <td>...</td>\n",
              "      <td>...</td>\n",
              "    </tr>\n",
              "    <tr>\n",
              "      <th>2014-06-01</th>\n",
              "      <td>70.0</td>\n",
              "      <td>1018.0</td>\n",
              "      <td>8.0</td>\n",
              "    </tr>\n",
              "    <tr>\n",
              "      <th>2012-10-07</th>\n",
              "      <td>32.0</td>\n",
              "      <td>1013.7</td>\n",
              "      <td>1.0</td>\n",
              "    </tr>\n",
              "    <tr>\n",
              "      <th>2012-11-11</th>\n",
              "      <td>45.0</td>\n",
              "      <td>1026.6</td>\n",
              "      <td>2.0</td>\n",
              "    </tr>\n",
              "    <tr>\n",
              "      <th>2013-06-22</th>\n",
              "      <td>83.0</td>\n",
              "      <td>1024.2</td>\n",
              "      <td>7.0</td>\n",
              "    </tr>\n",
              "    <tr>\n",
              "      <th>2010-06-13</th>\n",
              "      <td>50.0</td>\n",
              "      <td>1028.9</td>\n",
              "      <td>1.0</td>\n",
              "    </tr>\n",
              "  </tbody>\n",
              "</table>\n",
              "<p>2065 rows × 3 columns</p>\n",
              "</div>\n",
              "      <button class=\"colab-df-convert\" onclick=\"convertToInteractive('df-2d30a677-69ae-4e5f-873e-5d00a2a65a4b')\"\n",
              "              title=\"Convert this dataframe to an interactive table.\"\n",
              "              style=\"display:none;\">\n",
              "        \n",
              "  <svg xmlns=\"http://www.w3.org/2000/svg\" height=\"24px\"viewBox=\"0 0 24 24\"\n",
              "       width=\"24px\">\n",
              "    <path d=\"M0 0h24v24H0V0z\" fill=\"none\"/>\n",
              "    <path d=\"M18.56 5.44l.94 2.06.94-2.06 2.06-.94-2.06-.94-.94-2.06-.94 2.06-2.06.94zm-11 1L8.5 8.5l.94-2.06 2.06-.94-2.06-.94L8.5 2.5l-.94 2.06-2.06.94zm10 10l.94 2.06.94-2.06 2.06-.94-2.06-.94-.94-2.06-.94 2.06-2.06.94z\"/><path d=\"M17.41 7.96l-1.37-1.37c-.4-.4-.92-.59-1.43-.59-.52 0-1.04.2-1.43.59L10.3 9.45l-7.72 7.72c-.78.78-.78 2.05 0 2.83L4 21.41c.39.39.9.59 1.41.59.51 0 1.02-.2 1.41-.59l7.78-7.78 2.81-2.81c.8-.78.8-2.07 0-2.86zM5.41 20L4 18.59l7.72-7.72 1.47 1.35L5.41 20z\"/>\n",
              "  </svg>\n",
              "      </button>\n",
              "      \n",
              "  <style>\n",
              "    .colab-df-container {\n",
              "      display:flex;\n",
              "      flex-wrap:wrap;\n",
              "      gap: 12px;\n",
              "    }\n",
              "\n",
              "    .colab-df-convert {\n",
              "      background-color: #E8F0FE;\n",
              "      border: none;\n",
              "      border-radius: 50%;\n",
              "      cursor: pointer;\n",
              "      display: none;\n",
              "      fill: #1967D2;\n",
              "      height: 32px;\n",
              "      padding: 0 0 0 0;\n",
              "      width: 32px;\n",
              "    }\n",
              "\n",
              "    .colab-df-convert:hover {\n",
              "      background-color: #E2EBFA;\n",
              "      box-shadow: 0px 1px 2px rgba(60, 64, 67, 0.3), 0px 1px 3px 1px rgba(60, 64, 67, 0.15);\n",
              "      fill: #174EA6;\n",
              "    }\n",
              "\n",
              "    [theme=dark] .colab-df-convert {\n",
              "      background-color: #3B4455;\n",
              "      fill: #D2E3FC;\n",
              "    }\n",
              "\n",
              "    [theme=dark] .colab-df-convert:hover {\n",
              "      background-color: #434B5C;\n",
              "      box-shadow: 0px 1px 3px 1px rgba(0, 0, 0, 0.15);\n",
              "      filter: drop-shadow(0px 1px 2px rgba(0, 0, 0, 0.3));\n",
              "      fill: #FFFFFF;\n",
              "    }\n",
              "  </style>\n",
              "\n",
              "      <script>\n",
              "        const buttonEl =\n",
              "          document.querySelector('#df-2d30a677-69ae-4e5f-873e-5d00a2a65a4b button.colab-df-convert');\n",
              "        buttonEl.style.display =\n",
              "          google.colab.kernel.accessAllowed ? 'block' : 'none';\n",
              "\n",
              "        async function convertToInteractive(key) {\n",
              "          const element = document.querySelector('#df-2d30a677-69ae-4e5f-873e-5d00a2a65a4b');\n",
              "          const dataTable =\n",
              "            await google.colab.kernel.invokeFunction('convertToInteractive',\n",
              "                                                     [key], {});\n",
              "          if (!dataTable) return;\n",
              "\n",
              "          const docLinkHtml = 'Like what you see? Visit the ' +\n",
              "            '<a target=\"_blank\" href=https://colab.research.google.com/notebooks/data_table.ipynb>data table notebook</a>'\n",
              "            + ' to learn more about interactive tables.';\n",
              "          element.innerHTML = '';\n",
              "          dataTable['output_type'] = 'display_data';\n",
              "          await google.colab.output.renderOutput(dataTable, element);\n",
              "          const docLink = document.createElement('div');\n",
              "          docLink.innerHTML = docLinkHtml;\n",
              "          element.appendChild(docLink);\n",
              "        }\n",
              "      </script>\n",
              "    </div>\n",
              "  </div>\n",
              "  "
            ]
          },
          "metadata": {},
          "execution_count": 93
        }
      ]
    },
    {
      "cell_type": "code",
      "source": [
        "knn.fit(X_train, y_train)"
      ],
      "metadata": {
        "colab": {
          "base_uri": "https://localhost:8080/"
        },
        "id": "WZm1UMcddOdN",
        "outputId": "be10c348-9ca0-4c33-bffd-3ccc378e5ff4"
      },
      "id": "WZm1UMcddOdN",
      "execution_count": 94,
      "outputs": [
        {
          "output_type": "execute_result",
          "data": {
            "text/plain": [
              "KNeighborsClassifier(n_neighbors=6)"
            ]
          },
          "metadata": {},
          "execution_count": 94
        }
      ]
    },
    {
      "cell_type": "code",
      "source": [
        "y_pred = knn.predict(X_valid)\n",
        "y_pred"
      ],
      "metadata": {
        "id": "OAyd-PHydRJY"
      },
      "id": "OAyd-PHydRJY",
      "execution_count": null,
      "outputs": []
    },
    {
      "cell_type": "markdown",
      "source": [
        "#### inverse_transform 연습"
      ],
      "metadata": {
        "id": "YcWtmwDJkCEY"
      },
      "id": "YcWtmwDJkCEY"
    },
    {
      "cell_type": "code",
      "source": [
        "# LabelEncoder 연습 삼아 y_pred를 inverse_transform해보자\n",
        "le.inverse_transform(y_pred[0])"
      ],
      "metadata": {
        "colab": {
          "base_uri": "https://localhost:8080/",
          "height": 353
        },
        "id": "Jp7n1SEFgd4H",
        "outputId": "038ed0eb-7276-4c2b-c9d5-4bb616bb5432"
      },
      "id": "Jp7n1SEFgd4H",
      "execution_count": 97,
      "outputs": [
        {
          "output_type": "error",
          "ename": "ValueError",
          "evalue": "ignored",
          "traceback": [
            "\u001b[0;31m---------------------------------------------------------------------------\u001b[0m",
            "\u001b[0;31mValueError\u001b[0m                                Traceback (most recent call last)",
            "\u001b[0;32m<ipython-input-97-6bad5a17b174>\u001b[0m in \u001b[0;36m<module>\u001b[0;34m\u001b[0m\n\u001b[1;32m      1\u001b[0m \u001b[0;31m# LabelEncoder 연습 삼아 y_pred[0]를 inverse_transform해보자\u001b[0m\u001b[0;34m\u001b[0m\u001b[0;34m\u001b[0m\u001b[0;34m\u001b[0m\u001b[0m\n\u001b[0;32m----> 2\u001b[0;31m \u001b[0mle\u001b[0m\u001b[0;34m.\u001b[0m\u001b[0minverse_transform\u001b[0m\u001b[0;34m(\u001b[0m\u001b[0my_pred\u001b[0m\u001b[0;34m[\u001b[0m\u001b[0;36m0\u001b[0m\u001b[0;34m]\u001b[0m\u001b[0;34m)\u001b[0m\u001b[0;34m\u001b[0m\u001b[0;34m\u001b[0m\u001b[0m\n\u001b[0m",
            "\u001b[0;32m/usr/local/lib/python3.8/dist-packages/sklearn/preprocessing/_label.py\u001b[0m in \u001b[0;36minverse_transform\u001b[0;34m(self, y)\u001b[0m\n\u001b[1;32m    152\u001b[0m         \"\"\"\n\u001b[1;32m    153\u001b[0m         \u001b[0mcheck_is_fitted\u001b[0m\u001b[0;34m(\u001b[0m\u001b[0mself\u001b[0m\u001b[0;34m)\u001b[0m\u001b[0;34m\u001b[0m\u001b[0;34m\u001b[0m\u001b[0m\n\u001b[0;32m--> 154\u001b[0;31m         \u001b[0my\u001b[0m \u001b[0;34m=\u001b[0m \u001b[0mcolumn_or_1d\u001b[0m\u001b[0;34m(\u001b[0m\u001b[0my\u001b[0m\u001b[0;34m,\u001b[0m \u001b[0mwarn\u001b[0m\u001b[0;34m=\u001b[0m\u001b[0;32mTrue\u001b[0m\u001b[0;34m)\u001b[0m\u001b[0;34m\u001b[0m\u001b[0;34m\u001b[0m\u001b[0m\n\u001b[0m\u001b[1;32m    155\u001b[0m         \u001b[0;31m# inverse transform of empty array is empty array\u001b[0m\u001b[0;34m\u001b[0m\u001b[0;34m\u001b[0m\u001b[0;34m\u001b[0m\u001b[0m\n\u001b[1;32m    156\u001b[0m         \u001b[0;32mif\u001b[0m \u001b[0m_num_samples\u001b[0m\u001b[0;34m(\u001b[0m\u001b[0my\u001b[0m\u001b[0;34m)\u001b[0m \u001b[0;34m==\u001b[0m \u001b[0;36m0\u001b[0m\u001b[0;34m:\u001b[0m\u001b[0;34m\u001b[0m\u001b[0;34m\u001b[0m\u001b[0m\n",
            "\u001b[0;32m/usr/local/lib/python3.8/dist-packages/sklearn/utils/validation.py\u001b[0m in \u001b[0;36mcolumn_or_1d\u001b[0;34m(y, warn)\u001b[0m\n\u001b[1;32m   1036\u001b[0m         \u001b[0;32mreturn\u001b[0m \u001b[0mnp\u001b[0m\u001b[0;34m.\u001b[0m\u001b[0mravel\u001b[0m\u001b[0;34m(\u001b[0m\u001b[0my\u001b[0m\u001b[0;34m)\u001b[0m\u001b[0;34m\u001b[0m\u001b[0;34m\u001b[0m\u001b[0m\n\u001b[1;32m   1037\u001b[0m \u001b[0;34m\u001b[0m\u001b[0m\n\u001b[0;32m-> 1038\u001b[0;31m     raise ValueError(\n\u001b[0m\u001b[1;32m   1039\u001b[0m         \u001b[0;34m\"y should be a 1d array, got an array of shape {} instead.\"\u001b[0m\u001b[0;34m.\u001b[0m\u001b[0mformat\u001b[0m\u001b[0;34m(\u001b[0m\u001b[0mshape\u001b[0m\u001b[0;34m)\u001b[0m\u001b[0;34m\u001b[0m\u001b[0;34m\u001b[0m\u001b[0m\n\u001b[1;32m   1040\u001b[0m     )\n",
            "\u001b[0;31mValueError\u001b[0m: y should be a 1d array, got an array of shape () instead."
          ]
        }
      ]
    },
    {
      "cell_type": "code",
      "source": [
        "# 1d array인 y_pred를 역전환\n",
        "le.inverse_transform(y_pred)"
      ],
      "metadata": {
        "colab": {
          "base_uri": "https://localhost:8080/",
          "height": 329
        },
        "id": "teXA6DIggxV7",
        "outputId": "80c5f9b7-5e15-4096-8be5-b76deb355a6c"
      },
      "id": "teXA6DIggxV7",
      "execution_count": 108,
      "outputs": [
        {
          "output_type": "error",
          "ename": "ValueError",
          "evalue": "ignored",
          "traceback": [
            "\u001b[0;31m---------------------------------------------------------------------------\u001b[0m",
            "\u001b[0;31mValueError\u001b[0m                                Traceback (most recent call last)",
            "\u001b[0;32m<ipython-input-108-5f7278467821>\u001b[0m in \u001b[0;36m<module>\u001b[0;34m\u001b[0m\n\u001b[1;32m      1\u001b[0m \u001b[0;31m# 1d array인 y_pred를 역전환\u001b[0m\u001b[0;34m\u001b[0m\u001b[0;34m\u001b[0m\u001b[0;34m\u001b[0m\u001b[0m\n\u001b[0;32m----> 2\u001b[0;31m \u001b[0mle\u001b[0m\u001b[0;34m.\u001b[0m\u001b[0minverse_transform\u001b[0m\u001b[0;34m(\u001b[0m\u001b[0my_pred\u001b[0m\u001b[0;34m)\u001b[0m\u001b[0;34m\u001b[0m\u001b[0;34m\u001b[0m\u001b[0m\n\u001b[0m",
            "\u001b[0;32m/usr/local/lib/python3.8/dist-packages/sklearn/preprocessing/_label.py\u001b[0m in \u001b[0;36minverse_transform\u001b[0;34m(self, y)\u001b[0m\n\u001b[1;32m    159\u001b[0m         \u001b[0mdiff\u001b[0m \u001b[0;34m=\u001b[0m \u001b[0mnp\u001b[0m\u001b[0;34m.\u001b[0m\u001b[0msetdiff1d\u001b[0m\u001b[0;34m(\u001b[0m\u001b[0my\u001b[0m\u001b[0;34m,\u001b[0m \u001b[0mnp\u001b[0m\u001b[0;34m.\u001b[0m\u001b[0marange\u001b[0m\u001b[0;34m(\u001b[0m\u001b[0mlen\u001b[0m\u001b[0;34m(\u001b[0m\u001b[0mself\u001b[0m\u001b[0;34m.\u001b[0m\u001b[0mclasses_\u001b[0m\u001b[0;34m)\u001b[0m\u001b[0;34m)\u001b[0m\u001b[0;34m)\u001b[0m\u001b[0;34m\u001b[0m\u001b[0;34m\u001b[0m\u001b[0m\n\u001b[1;32m    160\u001b[0m         \u001b[0;32mif\u001b[0m \u001b[0mlen\u001b[0m\u001b[0;34m(\u001b[0m\u001b[0mdiff\u001b[0m\u001b[0;34m)\u001b[0m\u001b[0;34m:\u001b[0m\u001b[0;34m\u001b[0m\u001b[0;34m\u001b[0m\u001b[0m\n\u001b[0;32m--> 161\u001b[0;31m             \u001b[0;32mraise\u001b[0m \u001b[0mValueError\u001b[0m\u001b[0;34m(\u001b[0m\u001b[0;34m\"y contains previously unseen labels: %s\"\u001b[0m \u001b[0;34m%\u001b[0m \u001b[0mstr\u001b[0m\u001b[0;34m(\u001b[0m\u001b[0mdiff\u001b[0m\u001b[0;34m)\u001b[0m\u001b[0;34m)\u001b[0m\u001b[0;34m\u001b[0m\u001b[0;34m\u001b[0m\u001b[0m\n\u001b[0m\u001b[1;32m    162\u001b[0m         \u001b[0my\u001b[0m \u001b[0;34m=\u001b[0m \u001b[0mnp\u001b[0m\u001b[0;34m.\u001b[0m\u001b[0masarray\u001b[0m\u001b[0;34m(\u001b[0m\u001b[0my\u001b[0m\u001b[0;34m)\u001b[0m\u001b[0;34m\u001b[0m\u001b[0;34m\u001b[0m\u001b[0m\n\u001b[1;32m    163\u001b[0m         \u001b[0;32mreturn\u001b[0m \u001b[0mself\u001b[0m\u001b[0;34m.\u001b[0m\u001b[0mclasses_\u001b[0m\u001b[0;34m[\u001b[0m\u001b[0my\u001b[0m\u001b[0;34m]\u001b[0m\u001b[0;34m\u001b[0m\u001b[0;34m\u001b[0m\u001b[0m\n",
            "\u001b[0;31mValueError\u001b[0m: y contains previously unseen labels: [2 3]"
          ]
        }
      ]
    },
    {
      "cell_type": "code",
      "source": [
        "# 학습이 끝난 knn모델이 \n",
        "# validation set의 첫 번째 sample에 대해서 뭐라고 predict했는지 궁금하다\n",
        "print(\"예측 : \", le.inverse_transform(y_pred)[0])\n",
        "print(\"정답 : \", y_valid[0])"
      ],
      "metadata": {
        "colab": {
          "base_uri": "https://localhost:8080/",
          "height": 367
        },
        "id": "rD8BjkCpg_iv",
        "outputId": "fe44512a-439c-4125-e677-a01146d7bdd0"
      },
      "id": "rD8BjkCpg_iv",
      "execution_count": 109,
      "outputs": [
        {
          "output_type": "error",
          "ename": "ValueError",
          "evalue": "ignored",
          "traceback": [
            "\u001b[0;31m---------------------------------------------------------------------------\u001b[0m",
            "\u001b[0;31mValueError\u001b[0m                                Traceback (most recent call last)",
            "\u001b[0;32m<ipython-input-109-5c9c9e0715e9>\u001b[0m in \u001b[0;36m<module>\u001b[0;34m\u001b[0m\n\u001b[1;32m      1\u001b[0m \u001b[0;31m# 학습이 끝난 knn모델이\u001b[0m\u001b[0;34m\u001b[0m\u001b[0;34m\u001b[0m\u001b[0;34m\u001b[0m\u001b[0m\n\u001b[1;32m      2\u001b[0m \u001b[0;31m# validation set의 첫 번째 sample에 대해서 뭐라고 predict했는지 궁금하다\u001b[0m\u001b[0;34m\u001b[0m\u001b[0;34m\u001b[0m\u001b[0;34m\u001b[0m\u001b[0m\n\u001b[0;32m----> 3\u001b[0;31m \u001b[0mprint\u001b[0m\u001b[0;34m(\u001b[0m\u001b[0;34m\"예측 : \"\u001b[0m\u001b[0;34m,\u001b[0m \u001b[0mle\u001b[0m\u001b[0;34m.\u001b[0m\u001b[0minverse_transform\u001b[0m\u001b[0;34m(\u001b[0m\u001b[0my_pred\u001b[0m\u001b[0;34m)\u001b[0m\u001b[0;34m[\u001b[0m\u001b[0;36m0\u001b[0m\u001b[0;34m]\u001b[0m\u001b[0;34m)\u001b[0m\u001b[0;34m\u001b[0m\u001b[0;34m\u001b[0m\u001b[0m\n\u001b[0m\u001b[1;32m      4\u001b[0m \u001b[0mprint\u001b[0m\u001b[0;34m(\u001b[0m\u001b[0;34m\"정답 : \"\u001b[0m\u001b[0;34m,\u001b[0m \u001b[0my_valid\u001b[0m\u001b[0;34m[\u001b[0m\u001b[0;36m0\u001b[0m\u001b[0;34m]\u001b[0m\u001b[0;34m)\u001b[0m\u001b[0;34m\u001b[0m\u001b[0;34m\u001b[0m\u001b[0m\n",
            "\u001b[0;32m/usr/local/lib/python3.8/dist-packages/sklearn/preprocessing/_label.py\u001b[0m in \u001b[0;36minverse_transform\u001b[0;34m(self, y)\u001b[0m\n\u001b[1;32m    159\u001b[0m         \u001b[0mdiff\u001b[0m \u001b[0;34m=\u001b[0m \u001b[0mnp\u001b[0m\u001b[0;34m.\u001b[0m\u001b[0msetdiff1d\u001b[0m\u001b[0;34m(\u001b[0m\u001b[0my\u001b[0m\u001b[0;34m,\u001b[0m \u001b[0mnp\u001b[0m\u001b[0;34m.\u001b[0m\u001b[0marange\u001b[0m\u001b[0;34m(\u001b[0m\u001b[0mlen\u001b[0m\u001b[0;34m(\u001b[0m\u001b[0mself\u001b[0m\u001b[0;34m.\u001b[0m\u001b[0mclasses_\u001b[0m\u001b[0;34m)\u001b[0m\u001b[0;34m)\u001b[0m\u001b[0;34m)\u001b[0m\u001b[0;34m\u001b[0m\u001b[0;34m\u001b[0m\u001b[0m\n\u001b[1;32m    160\u001b[0m         \u001b[0;32mif\u001b[0m \u001b[0mlen\u001b[0m\u001b[0;34m(\u001b[0m\u001b[0mdiff\u001b[0m\u001b[0;34m)\u001b[0m\u001b[0;34m:\u001b[0m\u001b[0;34m\u001b[0m\u001b[0;34m\u001b[0m\u001b[0m\n\u001b[0;32m--> 161\u001b[0;31m             \u001b[0;32mraise\u001b[0m \u001b[0mValueError\u001b[0m\u001b[0;34m(\u001b[0m\u001b[0;34m\"y contains previously unseen labels: %s\"\u001b[0m \u001b[0;34m%\u001b[0m \u001b[0mstr\u001b[0m\u001b[0;34m(\u001b[0m\u001b[0mdiff\u001b[0m\u001b[0;34m)\u001b[0m\u001b[0;34m)\u001b[0m\u001b[0;34m\u001b[0m\u001b[0;34m\u001b[0m\u001b[0m\n\u001b[0m\u001b[1;32m    162\u001b[0m         \u001b[0my\u001b[0m \u001b[0;34m=\u001b[0m \u001b[0mnp\u001b[0m\u001b[0;34m.\u001b[0m\u001b[0masarray\u001b[0m\u001b[0;34m(\u001b[0m\u001b[0my\u001b[0m\u001b[0;34m)\u001b[0m\u001b[0;34m\u001b[0m\u001b[0;34m\u001b[0m\u001b[0m\n\u001b[1;32m    163\u001b[0m         \u001b[0;32mreturn\u001b[0m \u001b[0mself\u001b[0m\u001b[0;34m.\u001b[0m\u001b[0mclasses_\u001b[0m\u001b[0;34m[\u001b[0m\u001b[0my\u001b[0m\u001b[0;34m]\u001b[0m\u001b[0;34m\u001b[0m\u001b[0;34m\u001b[0m\u001b[0m\n",
            "\u001b[0;31mValueError\u001b[0m: y contains previously unseen labels: [2 3]"
          ]
        }
      ]
    },
    {
      "cell_type": "markdown",
      "source": [
        "#### y contains previously unseen labels: ['No' 'Yes']\n",
        "- 원인1 : train_test_split(X, `y`, random_state=42)\n",
        "- 원인2 : label encoding한 label(`encoded_labels`)이 아닌 `y`를 train_test_split에 전달했기 때문\n",
        "- 해결 :  train_test_split(X, `encoded_labels`, random_state=42)"
      ],
      "metadata": {
        "id": "MQfE3dKIoAuG"
      },
      "id": "MQfE3dKIoAuG"
    },
    {
      "cell_type": "code",
      "source": [
        "encoded_labels"
      ],
      "metadata": {
        "colab": {
          "base_uri": "https://localhost:8080/"
        },
        "id": "sFFAbGdW0OY5",
        "outputId": "2cb6c5e1-2ba2-4de5-99f8-578d4375e541"
      },
      "id": "sFFAbGdW0OY5",
      "execution_count": 116,
      "outputs": [
        {
          "output_type": "execute_result",
          "data": {
            "text/plain": [
              "array([1, 1, 1, ..., 0, 0, 0])"
            ]
          },
          "metadata": {},
          "execution_count": 116
        }
      ]
    },
    {
      "cell_type": "code",
      "source": [
        "X_train, X_valid, y_train, y_valid = train_test_split(X, encoded_labels, random_state=42)"
      ],
      "metadata": {
        "id": "IPGFRsMQoCMv"
      },
      "id": "IPGFRsMQoCMv",
      "execution_count": 117,
      "outputs": []
    },
    {
      "cell_type": "code",
      "source": [
        "knn = KNeighborsClassifier(n_neighbors=5)\n",
        "knn.fit(X_train, y_train)\n",
        "y_pred = knn.predict(X_valid)\n",
        "y_pred[:5]"
      ],
      "metadata": {
        "colab": {
          "base_uri": "https://localhost:8080/"
        },
        "id": "J18vJ8-UpRpv",
        "outputId": "4b97c75a-7297-48c8-f380-f5273d6f0a95"
      },
      "id": "J18vJ8-UpRpv",
      "execution_count": 118,
      "outputs": [
        {
          "output_type": "execute_result",
          "data": {
            "text/plain": [
              "array([0, 0, 1, 0, 0])"
            ]
          },
          "metadata": {},
          "execution_count": 118
        }
      ]
    },
    {
      "cell_type": "code",
      "source": [
        "le.inverse_transform(y_pred)[:5]"
      ],
      "metadata": {
        "colab": {
          "base_uri": "https://localhost:8080/"
        },
        "id": "yDREZwOrpSAP",
        "outputId": "210a5fd8-f571-4dcb-ebd3-66f6b0356f04"
      },
      "id": "yDREZwOrpSAP",
      "execution_count": 119,
      "outputs": [
        {
          "output_type": "execute_result",
          "data": {
            "text/plain": [
              "array(['No', 'No', 'Yes', 'No', 'No'], dtype=object)"
            ]
          },
          "metadata": {},
          "execution_count": 119
        }
      ]
    },
    {
      "cell_type": "code",
      "source": [
        "le.inverse_transform(y_valid)[:5] "
      ],
      "metadata": {
        "colab": {
          "base_uri": "https://localhost:8080/"
        },
        "id": "4pBr6KMbxRDg",
        "outputId": "c3559626-a50a-49d4-ff1e-7179d44e7ddb"
      },
      "id": "4pBr6KMbxRDg",
      "execution_count": 120,
      "outputs": [
        {
          "output_type": "execute_result",
          "data": {
            "text/plain": [
              "array(['No', 'No', 'Yes', 'No', 'No'], dtype=object)"
            ]
          },
          "metadata": {},
          "execution_count": 120
        }
      ]
    },
    {
      "cell_type": "code",
      "source": [
        "\"\"\"\n",
        "print('y_true : ', le.inverse_transform(y_valid)[:5])\n",
        "print('y_pred : ', le.inverse_transform(y_pred)[:5])\n",
        "\"\"\""
      ],
      "metadata": {
        "id": "_RX0h4jBw1Ji"
      },
      "id": "_RX0h4jBw1Ji",
      "execution_count": null,
      "outputs": []
    },
    {
      "cell_type": "markdown",
      "source": [
        "ValueError: y contains previously unseen labels: [2 3]???????????"
      ],
      "metadata": {
        "id": "4LqnzsNUx-71"
      },
      "id": "4LqnzsNUx-71"
    },
    {
      "cell_type": "code",
      "source": [
        "len(y_pred)"
      ],
      "metadata": {
        "colab": {
          "base_uri": "https://localhost:8080/"
        },
        "id": "CtgiXnh00gtK",
        "outputId": "eaf707ef-809e-4cc6-aa05-8f5c122767aa"
      },
      "id": "CtgiXnh00gtK",
      "execution_count": 124,
      "outputs": [
        {
          "output_type": "execute_result",
          "data": {
            "text/plain": [
              "689"
            ]
          },
          "metadata": {},
          "execution_count": 124
        }
      ]
    },
    {
      "cell_type": "markdown",
      "source": [
        "#### [accuracy_score 1](https://scikit-learn.org/stable/modules/generated/sklearn.metrics.accuracy_score.html)\n",
        "- [accuracy_score user guide](https://scikit-learn.org/stable/modules/generated/sklearn.metrics.accuracy_score.html)\n",
        "- subset accuracy?"
      ],
      "metadata": {
        "id": "4MZLX7olf6Nc"
      },
      "id": "4MZLX7olf6Nc"
    },
    {
      "cell_type": "markdown",
      "source": [
        "The accuracy_score function computes the accuracy, either the fraction(default) or the mount of the count (normalize=False) of correct predictions."
      ],
      "metadata": {
        "id": "X1z1kJOHtMX1"
      },
      "id": "X1z1kJOHtMX1"
    },
    {
      "cell_type": "markdown",
      "source": [
        "In multilabel classfication, the function returns the subset accuracy. If the entire set of predicted labels for a sample strictly match with the true set of labels, then the subset accuracy is 1.0; otherwise it is 0.0."
      ],
      "metadata": {
        "id": "MhwBTUVzuHuF"
      },
      "id": "MhwBTUVzuHuF"
    },
    {
      "cell_type": "markdown",
      "source": [
        "![score_accuracy.PNG](data:image/png;base64,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)"
      ],
      "metadata": {
        "id": "zYGbi8hxqrmI"
      },
      "id": "zYGbi8hxqrmI"
    },
    {
      "cell_type": "markdown",
      "source": [
        "**parameters**\n",
        "- `y_true` : 1d array, truth(correct) labels\n",
        "- `y_pred` : predicted labels\n",
        "- `normalize` : bool, default=True\n"
      ],
      "metadata": {
        "id": "-u33BW6-usVQ"
      },
      "id": "-u33BW6-usVQ"
    },
    {
      "cell_type": "markdown",
      "source": [
        "**Returns**\n",
        "<br>\n",
        "If `normalize == True`, return the fraction of correctly classified samples (float), else returns the number of correctly classified samples (int)."
      ],
      "metadata": {
        "id": "ek1RXblZvRSk"
      },
      "id": "ek1RXblZvRSk"
    },
    {
      "cell_type": "markdown",
      "source": [
        "example"
      ],
      "metadata": {
        "id": "V3TGLatptbyF"
      },
      "id": "V3TGLatptbyF"
    },
    {
      "cell_type": "code",
      "source": [
        "import numpy as np\n",
        "y_pred = [0, 2, 1, 3]\n",
        "y_true = [0, 1, 2, 3]\n",
        "\n",
        "metrics.accuracy_score(y_true, y_pred) # 0.5 = 2 / 4 \n",
        "# the number of correctly classified samples : 2\n",
        "# number of all samples : 4\n",
        "# formula : if normalize=True, then \n",
        "#   number of correctly classified samples / number of all samples"
      ],
      "metadata": {
        "id": "s4kVb5HBrDYq"
      },
      "id": "s4kVb5HBrDYq",
      "execution_count": null,
      "outputs": []
    },
    {
      "cell_type": "code",
      "source": [
        "metrics.accuracy_score(y_true, y_pred, normalize=False) # the number of correctly classified samples"
      ],
      "metadata": {
        "id": "i83d6DYpt0cg"
      },
      "id": "i83d6DYpt0cg",
      "execution_count": null,
      "outputs": []
    },
    {
      "cell_type": "code",
      "source": [
        "metrics.accuracy_score(y_pred=le.inverse_transform(y_pred),\n",
        "                       y_true=le.inverse_transform(y_valid),\n",
        "                       normalize=True)"
      ],
      "metadata": {
        "colab": {
          "base_uri": "https://localhost:8080/"
        },
        "id": "0uApHe4FyK3e",
        "outputId": "3af09365-c529-4986-8124-fc2db02d47e4"
      },
      "id": "0uApHe4FyK3e",
      "execution_count": 122,
      "outputs": [
        {
          "output_type": "execute_result",
          "data": {
            "text/plain": [
              "0.8127721335268505"
            ]
          },
          "metadata": {},
          "execution_count": 122
        }
      ]
    },
    {
      "cell_type": "code",
      "source": [
        "metrics.accuracy_score(y_pred=le.inverse_transform(y_pred),\n",
        "                       y_true=le.inverse_transform(y_valid),\n",
        "                       normalize=False) # the number of correctly classified samples"
      ],
      "metadata": {
        "colab": {
          "base_uri": "https://localhost:8080/"
        },
        "id": "xjFiJVjd0cVq",
        "outputId": "32332f6c-2008-4381-9f71-9e7479fc5f6b"
      },
      "id": "xjFiJVjd0cVq",
      "execution_count": 123,
      "outputs": [
        {
          "output_type": "execute_result",
          "data": {
            "text/plain": [
              "560"
            ]
          },
          "metadata": {},
          "execution_count": 123
        }
      ]
    },
    {
      "cell_type": "code",
      "source": [
        "metrics.accuracy_score(y_pred, y_valid) # 약 82%의 정확도로 비가 온다 안온다를 예측했다.  "
      ],
      "metadata": {
        "id": "ZHX6BSxKdAbH"
      },
      "id": "ZHX6BSxKdAbH",
      "execution_count": null,
      "outputs": []
    },
    {
      "cell_type": "markdown",
      "source": [
        "Rune : \"The cloud measurement at 3pm actually add some accuracy to it\"\n",
        "같은 결론은 위험하다. 샘플 수가 줄어 든 것이 accuracy를 향상시켰을 수도 있기 때문이다."
      ],
      "metadata": {
        "id": "2I0x1JLPkL81"
      },
      "id": "2I0x1JLPkL81"
    },
    {
      "cell_type": "markdown",
      "source": [
        "Higly advise you to play around with this."
      ],
      "metadata": {
        "id": "vQFUl9mbk44p"
      },
      "id": "vQFUl9mbk44p"
    },
    {
      "cell_type": "markdown",
      "source": [
        "Rune : It's not the goal to get 100% down there."
      ],
      "metadata": {
        "id": "5BEbGxOHlHH5"
      },
      "id": "5BEbGxOHlHH5"
    },
    {
      "cell_type": "code",
      "execution_count": null,
      "id": "5cee6d9d",
      "metadata": {
        "id": "5cee6d9d"
      },
      "outputs": [],
      "source": [
        "\"\"\"\n",
        "neigh = KNeighborsClassifier()\n",
        "neigh.fit(X_train, y_train)\n",
        "y_pred = neigh.predict(X_test)\n",
        "metrics.accuracy_score(y_test, y_pred)\n",
        "\"\"\""
      ]
    },
    {
      "cell_type": "code",
      "execution_count": null,
      "id": "a769f2f1",
      "metadata": {
        "id": "a769f2f1"
      },
      "outputs": [],
      "source": []
    },
    {
      "cell_type": "markdown",
      "id": "7b067085",
      "metadata": {
        "id": "7b067085"
      },
      "source": [
        "### Step 8 (Optional): Try with different columns\n",
        "- You can redo with diffrent choise of columns (starting from step 4)"
      ]
    },
    {
      "cell_type": "code",
      "execution_count": null,
      "id": "d9142f80",
      "metadata": {
        "id": "d9142f80"
      },
      "outputs": [],
      "source": [
        "data.dtypes"
      ]
    },
    {
      "cell_type": "code",
      "execution_count": null,
      "id": "48ca1350",
      "metadata": {
        "id": "48ca1350"
      },
      "outputs": [],
      "source": [
        "header = ['WindSpeed9am', 'Pressure9am', 'Cloud9am', 'RainTomorrow']\n",
        "dataset = data[header]"
      ]
    },
    {
      "cell_type": "code",
      "execution_count": null,
      "id": "0a06bf72",
      "metadata": {
        "id": "0a06bf72"
      },
      "outputs": [],
      "source": [
        "dataset.head()"
      ]
    },
    {
      "cell_type": "code",
      "execution_count": null,
      "id": "1f9270eb",
      "metadata": {
        "id": "1f9270eb"
      },
      "outputs": [],
      "source": [
        "dataset_clean = data.dropna()\n",
        "len(dataset), len(dataset_clean)"
      ]
    },
    {
      "cell_type": "code",
      "execution_count": null,
      "id": "4a2639aa",
      "metadata": {
        "id": "4a2639aa"
      },
      "outputs": [],
      "source": [
        "X = dataset_clean[header[:3]]\n",
        "y = dataset_clean[header[3]]\n",
        "y = np.array([0 if value == 'No' else 1 for value in y])"
      ]
    },
    {
      "cell_type": "code",
      "execution_count": null,
      "id": "c9d4368b",
      "metadata": {
        "id": "c9d4368b"
      },
      "outputs": [],
      "source": [
        "X_train, X_test, y_train, y_test = train_test_split(X, y, random_state=42)"
      ]
    },
    {
      "cell_type": "code",
      "execution_count": null,
      "id": "0c474d72",
      "metadata": {
        "id": "0c474d72"
      },
      "outputs": [],
      "source": [
        "neigh = KNeighborsClassifier()\n",
        "neigh.fit(X_train, y_train)\n",
        "y_pred = neigh.predict(X_test)\n",
        "metrics.accuracy_score(y_test, y_pred)"
      ]
    },
    {
      "cell_type": "code",
      "source": [],
      "metadata": {
        "id": "ciNAGnK6lkXx"
      },
      "id": "ciNAGnK6lkXx",
      "execution_count": null,
      "outputs": []
    }
  ],
  "metadata": {
    "language_info": {
      "name": "python"
    },
    "colab": {
      "provenance": [],
      "toc_visible": true
    },
    "kernelspec": {
      "name": "python3",
      "display_name": "Python 3"
    },
    "gpuClass": "standard"
  },
  "nbformat": 4,
  "nbformat_minor": 5
}